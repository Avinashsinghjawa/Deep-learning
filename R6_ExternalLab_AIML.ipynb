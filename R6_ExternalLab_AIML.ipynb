{
  "nbformat": 4,
  "nbformat_minor": 0,
  "metadata": {
    "colab": {
      "name": "R6_ExternalLab_AIML.ipynb",
      "version": "0.3.2",
      "provenance": [],
      "collapsed_sections": [],
      "include_colab_link": true
    },
    "kernelspec": {
      "display_name": "Python 2",
      "language": "python",
      "name": "python2"
    }
  },
  "cells": [
    {
      "cell_type": "markdown",
      "metadata": {
        "id": "view-in-github",
        "colab_type": "text"
      },
      "source": [
        "<a href=\"https://colab.research.google.com/github/Avinashsinghjawa/Deep-learning/blob/master/R6_ExternalLab_AIML.ipynb\" target=\"_parent\"><img src=\"https://colab.research.google.com/assets/colab-badge.svg\" alt=\"Open In Colab\"/></a>"
      ]
    },
    {
      "metadata": {
        "id": "YYk8NG3yOIT9",
        "colab_type": "text"
      },
      "cell_type": "markdown",
      "source": [
        "### A MNIST-like fashion product database\n",
        "\n",
        "In this, we classify the images into respective classes given in the dataset. We use a Neural Net and a Deep Neural Net in Keras to solve this and check the accuracy scores."
      ]
    },
    {
      "metadata": {
        "id": "tFO6PuxzOIT_",
        "colab_type": "text"
      },
      "cell_type": "markdown",
      "source": [
        "### Load tensorflow"
      ]
    },
    {
      "metadata": {
        "id": "efNjNImfOIUC",
        "colab_type": "code",
        "colab": {}
      },
      "cell_type": "code",
      "source": [
        "import tensorflow as tf\n",
        "tf.set_random_seed(42)"
      ],
      "execution_count": 0,
      "outputs": []
    },
    {
      "metadata": {
        "id": "l9C4aAIGOIUH",
        "colab_type": "code",
        "outputId": "a3dd571b-64e8-493a-f1e0-f2cf2b7f459b",
        "colab": {
          "base_uri": "https://localhost:8080/",
          "height": 34
        }
      },
      "cell_type": "code",
      "source": [
        "tf.__version__"
      ],
      "execution_count": 2,
      "outputs": [
        {
          "output_type": "execute_result",
          "data": {
            "text/plain": [
              "'1.13.1'"
            ]
          },
          "metadata": {
            "tags": []
          },
          "execution_count": 2
        }
      ]
    },
    {
      "metadata": {
        "id": "HcoZBStrOIUQ",
        "colab_type": "text"
      },
      "cell_type": "markdown",
      "source": [
        "### Collect Data"
      ]
    },
    {
      "metadata": {
        "id": "XA1WsFSeOIUS",
        "colab_type": "code",
        "outputId": "edd7a654-264c-42bf-cd80-8ad21628e9a6",
        "colab": {
          "base_uri": "https://localhost:8080/",
          "height": 34
        }
      },
      "cell_type": "code",
      "source": [
        "import keras"
      ],
      "execution_count": 3,
      "outputs": [
        {
          "output_type": "stream",
          "text": [
            "Using TensorFlow backend.\n"
          ],
          "name": "stderr"
        }
      ]
    },
    {
      "metadata": {
        "id": "qnbx7TyQOIUY",
        "colab_type": "code",
        "outputId": "c97d903a-f5a5-4989-ed7f-23870b237c02",
        "colab": {
          "base_uri": "https://localhost:8080/",
          "height": 202
        }
      },
      "cell_type": "code",
      "source": [
        "(trainX, trainY), (testX, testY) = keras.datasets.fashion_mnist.load_data()"
      ],
      "execution_count": 4,
      "outputs": [
        {
          "output_type": "stream",
          "text": [
            "Downloading data from http://fashion-mnist.s3-website.eu-central-1.amazonaws.com/train-labels-idx1-ubyte.gz\n",
            "32768/29515 [=================================] - 0s 4us/step\n",
            "40960/29515 [=========================================] - 0s 4us/step\n",
            "Downloading data from http://fashion-mnist.s3-website.eu-central-1.amazonaws.com/train-images-idx3-ubyte.gz\n",
            "26427392/26421880 [==============================] - 3s 0us/step\n",
            "26435584/26421880 [==============================] - 3s 0us/step\n",
            "Downloading data from http://fashion-mnist.s3-website.eu-central-1.amazonaws.com/t10k-labels-idx1-ubyte.gz\n",
            "16384/5148 [===============================================================================================] - 0s 0us/step\n",
            "Downloading data from http://fashion-mnist.s3-website.eu-central-1.amazonaws.com/t10k-images-idx3-ubyte.gz\n",
            "4423680/4422102 [==============================] - 1s 0us/step\n",
            "4431872/4422102 [==============================] - 1s 0us/step\n"
          ],
          "name": "stdout"
        }
      ]
    },
    {
      "metadata": {
        "id": "UbiHj5YPOIUc",
        "colab_type": "code",
        "outputId": "12c10d9e-3179-4874-95e8-870294905064",
        "colab": {
          "base_uri": "https://localhost:8080/",
          "height": 34
        }
      },
      "cell_type": "code",
      "source": [
        "print(testY[0:5])"
      ],
      "execution_count": 5,
      "outputs": [
        {
          "output_type": "stream",
          "text": [
            "[9 2 1 1 6]\n"
          ],
          "name": "stdout"
        }
      ]
    },
    {
      "metadata": {
        "id": "lDAYzkwyOIUj",
        "colab_type": "text"
      },
      "cell_type": "markdown",
      "source": [
        "### Convert both training and testing labels into one-hot vectors.\n",
        "\n",
        "**Hint:** check **tf.keras.utils.to_categorical()**"
      ]
    },
    {
      "metadata": {
        "id": "jJFCNCMKCItW",
        "colab_type": "code",
        "colab": {}
      },
      "cell_type": "code",
      "source": [
        "import pandas as pd"
      ],
      "execution_count": 0,
      "outputs": []
    },
    {
      "metadata": {
        "id": "6ABwi6zPCIlE",
        "colab_type": "code",
        "outputId": "8f08ecae-2b60-4ffc-e683-8790a49d47c8",
        "colab": {
          "base_uri": "https://localhost:8080/",
          "height": 195
        }
      },
      "cell_type": "code",
      "source": [
        "trainY = pd.get_dummies(trainY)\n",
        "trainY[0:5]"
      ],
      "execution_count": 7,
      "outputs": [
        {
          "output_type": "execute_result",
          "data": {
            "text/html": [
              "<div>\n",
              "<style scoped>\n",
              "    .dataframe tbody tr th:only-of-type {\n",
              "        vertical-align: middle;\n",
              "    }\n",
              "\n",
              "    .dataframe tbody tr th {\n",
              "        vertical-align: top;\n",
              "    }\n",
              "\n",
              "    .dataframe thead th {\n",
              "        text-align: right;\n",
              "    }\n",
              "</style>\n",
              "<table border=\"1\" class=\"dataframe\">\n",
              "  <thead>\n",
              "    <tr style=\"text-align: right;\">\n",
              "      <th></th>\n",
              "      <th>0</th>\n",
              "      <th>1</th>\n",
              "      <th>2</th>\n",
              "      <th>3</th>\n",
              "      <th>4</th>\n",
              "      <th>5</th>\n",
              "      <th>6</th>\n",
              "      <th>7</th>\n",
              "      <th>8</th>\n",
              "      <th>9</th>\n",
              "    </tr>\n",
              "  </thead>\n",
              "  <tbody>\n",
              "    <tr>\n",
              "      <th>0</th>\n",
              "      <td>0</td>\n",
              "      <td>0</td>\n",
              "      <td>0</td>\n",
              "      <td>0</td>\n",
              "      <td>0</td>\n",
              "      <td>0</td>\n",
              "      <td>0</td>\n",
              "      <td>0</td>\n",
              "      <td>0</td>\n",
              "      <td>1</td>\n",
              "    </tr>\n",
              "    <tr>\n",
              "      <th>1</th>\n",
              "      <td>1</td>\n",
              "      <td>0</td>\n",
              "      <td>0</td>\n",
              "      <td>0</td>\n",
              "      <td>0</td>\n",
              "      <td>0</td>\n",
              "      <td>0</td>\n",
              "      <td>0</td>\n",
              "      <td>0</td>\n",
              "      <td>0</td>\n",
              "    </tr>\n",
              "    <tr>\n",
              "      <th>2</th>\n",
              "      <td>1</td>\n",
              "      <td>0</td>\n",
              "      <td>0</td>\n",
              "      <td>0</td>\n",
              "      <td>0</td>\n",
              "      <td>0</td>\n",
              "      <td>0</td>\n",
              "      <td>0</td>\n",
              "      <td>0</td>\n",
              "      <td>0</td>\n",
              "    </tr>\n",
              "    <tr>\n",
              "      <th>3</th>\n",
              "      <td>0</td>\n",
              "      <td>0</td>\n",
              "      <td>0</td>\n",
              "      <td>1</td>\n",
              "      <td>0</td>\n",
              "      <td>0</td>\n",
              "      <td>0</td>\n",
              "      <td>0</td>\n",
              "      <td>0</td>\n",
              "      <td>0</td>\n",
              "    </tr>\n",
              "    <tr>\n",
              "      <th>4</th>\n",
              "      <td>1</td>\n",
              "      <td>0</td>\n",
              "      <td>0</td>\n",
              "      <td>0</td>\n",
              "      <td>0</td>\n",
              "      <td>0</td>\n",
              "      <td>0</td>\n",
              "      <td>0</td>\n",
              "      <td>0</td>\n",
              "      <td>0</td>\n",
              "    </tr>\n",
              "  </tbody>\n",
              "</table>\n",
              "</div>"
            ],
            "text/plain": [
              "   0  1  2  3  4  5  6  7  8  9\n",
              "0  0  0  0  0  0  0  0  0  0  1\n",
              "1  1  0  0  0  0  0  0  0  0  0\n",
              "2  1  0  0  0  0  0  0  0  0  0\n",
              "3  0  0  0  1  0  0  0  0  0  0\n",
              "4  1  0  0  0  0  0  0  0  0  0"
            ]
          },
          "metadata": {
            "tags": []
          },
          "execution_count": 7
        }
      ]
    },
    {
      "metadata": {
        "id": "vBlfYlANOIUk",
        "colab_type": "code",
        "outputId": "5ec6f317-bc36-4f09-a7bf-be35ea29369c",
        "colab": {
          "base_uri": "https://localhost:8080/",
          "height": 195
        }
      },
      "cell_type": "code",
      "source": [
        "testY = pd.get_dummies(testY)\n",
        "testY[0:5]"
      ],
      "execution_count": 8,
      "outputs": [
        {
          "output_type": "execute_result",
          "data": {
            "text/html": [
              "<div>\n",
              "<style scoped>\n",
              "    .dataframe tbody tr th:only-of-type {\n",
              "        vertical-align: middle;\n",
              "    }\n",
              "\n",
              "    .dataframe tbody tr th {\n",
              "        vertical-align: top;\n",
              "    }\n",
              "\n",
              "    .dataframe thead th {\n",
              "        text-align: right;\n",
              "    }\n",
              "</style>\n",
              "<table border=\"1\" class=\"dataframe\">\n",
              "  <thead>\n",
              "    <tr style=\"text-align: right;\">\n",
              "      <th></th>\n",
              "      <th>0</th>\n",
              "      <th>1</th>\n",
              "      <th>2</th>\n",
              "      <th>3</th>\n",
              "      <th>4</th>\n",
              "      <th>5</th>\n",
              "      <th>6</th>\n",
              "      <th>7</th>\n",
              "      <th>8</th>\n",
              "      <th>9</th>\n",
              "    </tr>\n",
              "  </thead>\n",
              "  <tbody>\n",
              "    <tr>\n",
              "      <th>0</th>\n",
              "      <td>0</td>\n",
              "      <td>0</td>\n",
              "      <td>0</td>\n",
              "      <td>0</td>\n",
              "      <td>0</td>\n",
              "      <td>0</td>\n",
              "      <td>0</td>\n",
              "      <td>0</td>\n",
              "      <td>0</td>\n",
              "      <td>1</td>\n",
              "    </tr>\n",
              "    <tr>\n",
              "      <th>1</th>\n",
              "      <td>0</td>\n",
              "      <td>0</td>\n",
              "      <td>1</td>\n",
              "      <td>0</td>\n",
              "      <td>0</td>\n",
              "      <td>0</td>\n",
              "      <td>0</td>\n",
              "      <td>0</td>\n",
              "      <td>0</td>\n",
              "      <td>0</td>\n",
              "    </tr>\n",
              "    <tr>\n",
              "      <th>2</th>\n",
              "      <td>0</td>\n",
              "      <td>1</td>\n",
              "      <td>0</td>\n",
              "      <td>0</td>\n",
              "      <td>0</td>\n",
              "      <td>0</td>\n",
              "      <td>0</td>\n",
              "      <td>0</td>\n",
              "      <td>0</td>\n",
              "      <td>0</td>\n",
              "    </tr>\n",
              "    <tr>\n",
              "      <th>3</th>\n",
              "      <td>0</td>\n",
              "      <td>1</td>\n",
              "      <td>0</td>\n",
              "      <td>0</td>\n",
              "      <td>0</td>\n",
              "      <td>0</td>\n",
              "      <td>0</td>\n",
              "      <td>0</td>\n",
              "      <td>0</td>\n",
              "      <td>0</td>\n",
              "    </tr>\n",
              "    <tr>\n",
              "      <th>4</th>\n",
              "      <td>0</td>\n",
              "      <td>0</td>\n",
              "      <td>0</td>\n",
              "      <td>0</td>\n",
              "      <td>0</td>\n",
              "      <td>0</td>\n",
              "      <td>1</td>\n",
              "      <td>0</td>\n",
              "      <td>0</td>\n",
              "      <td>0</td>\n",
              "    </tr>\n",
              "  </tbody>\n",
              "</table>\n",
              "</div>"
            ],
            "text/plain": [
              "   0  1  2  3  4  5  6  7  8  9\n",
              "0  0  0  0  0  0  0  0  0  0  1\n",
              "1  0  0  1  0  0  0  0  0  0  0\n",
              "2  0  1  0  0  0  0  0  0  0  0\n",
              "3  0  1  0  0  0  0  0  0  0  0\n",
              "4  0  0  0  0  0  0  1  0  0  0"
            ]
          },
          "metadata": {
            "tags": []
          },
          "execution_count": 8
        }
      ]
    },
    {
      "metadata": {
        "scrolled": true,
        "id": "RHV3b9mzOIUq",
        "colab_type": "code",
        "outputId": "7f360359-5996-47aa-b60d-2dbace987e13",
        "colab": {
          "base_uri": "https://localhost:8080/",
          "height": 134
        }
      },
      "cell_type": "code",
      "source": [
        "print(trainY.shape)\n",
        "print('First 5 examples now are: ', trainY[0:5])"
      ],
      "execution_count": 9,
      "outputs": [
        {
          "output_type": "stream",
          "text": [
            "(60000, 10)\n",
            "('First 5 examples now are: ',    0  1  2  3  4  5  6  7  8  9\n",
            "0  0  0  0  0  0  0  0  0  0  1\n",
            "1  1  0  0  0  0  0  0  0  0  0\n",
            "2  1  0  0  0  0  0  0  0  0  0\n",
            "3  0  0  0  1  0  0  0  0  0  0\n",
            "4  1  0  0  0  0  0  0  0  0  0)\n"
          ],
          "name": "stdout"
        }
      ]
    },
    {
      "metadata": {
        "id": "FwhQ8e7VOIUw",
        "colab_type": "text"
      },
      "cell_type": "markdown",
      "source": [
        "### Visualize the data\n",
        "\n",
        "Plot first 10 images in the triaining set and their labels."
      ]
    },
    {
      "metadata": {
        "id": "OYO3JbY8Hvjd",
        "colab_type": "code",
        "colab": {}
      },
      "cell_type": "code",
      "source": [
        "import numpy as np\n",
        "import matplotlib.pyplot as plt"
      ],
      "execution_count": 0,
      "outputs": []
    },
    {
      "metadata": {
        "id": "AvDML2OoOIUx",
        "colab_type": "code",
        "outputId": "913441df-c48d-414a-cf57-8025d831923b",
        "colab": {
          "base_uri": "https://localhost:8080/",
          "height": 3293
        }
      },
      "cell_type": "code",
      "source": [
        "for i in np.arange(0,9):\n",
        "  \n",
        "# get the first image and it's label\n",
        "  img1_arr, img1_label = trainX[i:i+1,:], trainY[i:i+1]\n",
        "  print(img1_arr.shape, img1_label)\n",
        "# (784L,) , 5\n",
        "\n",
        "# reshape first image(1 D vector) to 2D dimension image\n",
        "  img1_2d = np.reshape(img1_arr, (28, 28))\n",
        "# show it\n",
        "  plt.subplot(111)\n",
        "  plt.imshow(img1_2d, cmap=plt.get_cmap('gray'))\n",
        "  plt.show()\n",
        "  i=i+1"
      ],
      "execution_count": 12,
      "outputs": [
        {
          "output_type": "stream",
          "text": [
            "((1, 28, 28),    0  1  2  3  4  5  6  7  8  9\n",
            "0  0  0  0  0  0  0  0  0  0  1)\n"
          ],
          "name": "stdout"
        },
        {
          "output_type": "display_data",
          "data": {
            "image/png": "[encoded data removed]",
            "text/plain": [
              "<Figure size 576x396 with 1 Axes>"
            ]
          },
          "metadata": {
            "tags": []
          }
        },
        {
          "output_type": "stream",
          "text": [
            "((1, 28, 28),    0  1  2  3  4  5  6  7  8  9\n",
            "1  1  0  0  0  0  0  0  0  0  0)\n"
          ],
          "name": "stdout"
        },
        {
          "output_type": "display_data",
          "data": {
            "image/png": "[encoded data removed]",
            "text/plain": [
              "<Figure size 576x396 with 1 Axes>"
            ]
          },
          "metadata": {
            "tags": []
          }
        },
        {
          "output_type": "stream",
          "text": [
            "((1, 28, 28),    0  1  2  3  4  5  6  7  8  9\n",
            "2  1  0  0  0  0  0  0  0  0  0)\n"
          ],
          "name": "stdout"
        },
        {
          "output_type": "display_data",
          "data": {
            "image/png": "[encoded data removed]",
            "text/plain": [
              "<Figure size 576x396 with 1 Axes>"
            ]
          },
          "metadata": {
            "tags": []
          }
        },
        {
          "output_type": "stream",
          "text": [
            "((1, 28, 28),    0  1  2  3  4  5  6  7  8  9\n",
            "3  0  0  0  1  0  0  0  0  0  0)\n"
          ],
          "name": "stdout"
        },
        {
          "output_type": "display_data",
          "data": {
            "image/png": "[encoded data removed]",
            "text/plain": [
              "<Figure size 576x396 with 1 Axes>"
            ]
          },
          "metadata": {
            "tags": []
          }
        },
        {
          "output_type": "stream",
          "text": [
            "((1, 28, 28),    0  1  2  3  4  5  6  7  8  9\n",
            "4  1  0  0  0  0  0  0  0  0  0)\n"
          ],
          "name": "stdout"
        },
        {
          "output_type": "display_data",
          "data": {
            "image/png": "[encoded data removed]",
            "text/plain": [
              "<Figure size 576x396 with 1 Axes>"
            ]
          },
          "metadata": {
            "tags": []
          }
        },
        {
          "output_type": "stream",
          "text": [
            "((1, 28, 28),    0  1  2  3  4  5  6  7  8  9\n",
            "5  0  0  1  0  0  0  0  0  0  0)\n"
          ],
          "name": "stdout"
        },
        {
          "output_type": "display_data",
          "data": {
            "image/png": "[encoded data removed]",
            "text/plain": [
              "<Figure size 576x396 with 1 Axes>"
            ]
          },
          "metadata": {
            "tags": []
          }
        },
        {
          "output_type": "stream",
          "text": [
            "((1, 28, 28),    0  1  2  3  4  5  6  7  8  9\n",
            "6  0  0  0  0  0  0  0  1  0  0)\n"
          ],
          "name": "stdout"
        },
        {
          "output_type": "display_data",
          "data": {
            "image/png": "[encoded data removed]",
            "text/plain": [
              "<Figure size 576x396 with 1 Axes>"
            ]
          },
          "metadata": {
            "tags": []
          }
        },
        {
          "output_type": "stream",
          "text": [
            "((1, 28, 28),    0  1  2  3  4  5  6  7  8  9\n",
            "7  0  0  1  0  0  0  0  0  0  0)\n"
          ],
          "name": "stdout"
        },
        {
          "output_type": "display_data",
          "data": {
            "image/png": "[encoded data removed]",
            "text/plain": [
              "<Figure size 576x396 with 1 Axes>"
            ]
          },
          "metadata": {
            "tags": []
          }
        },
        {
          "output_type": "stream",
          "text": [
            "((1, 28, 28),    0  1  2  3  4  5  6  7  8  9\n",
            "8  0  0  0  0  0  1  0  0  0  0)\n"
          ],
          "name": "stdout"
        },
        {
          "output_type": "display_data",
          "data": {
            "image/png": "[encoded data removed]",
            "text/plain": [
              "<Figure size 576x396 with 1 Axes>"
            ]
          },
          "metadata": {
            "tags": []
          }
        }
      ]
    },
    {
      "metadata": {
        "id": "l4TbJGeSOIU4",
        "colab_type": "text"
      },
      "cell_type": "markdown",
      "source": [
        "### Build a neural Network with a cross entropy loss function and sgd optimizer in Keras. The output layer with 10 neurons as we have 10 classes."
      ]
    },
    {
      "metadata": {
        "id": "DS1UDL_VJShQ",
        "colab_type": "code",
        "colab": {
          "base_uri": "https://localhost:8080/",
          "height": 87
        },
        "outputId": "fe22d728-847b-4fd8-ffc7-c40732f7bd75"
      },
      "cell_type": "code",
      "source": [
        "#Initialize Sequential model\n",
        "model = tf.keras.models.Sequential()\n",
        "\n",
        "#Reshape data from 2D to 1D -> 28x28 to 784\n",
        "model.add(tf.keras.layers.Reshape((784,),input_shape=(28,28,)))\n",
        "\n",
        "#Add Dense Layer which provides 10 Outputs after applying softmax\n",
        "model.add(tf.keras.layers.Dense(10, activation='softmax'))\n",
        "\n",
        "#Create optimizer with non-default learning rate\n",
        "sgd_optimizer = tf.keras.optimizers.SGD(lr=0.01)\n",
        "\n",
        "#Compile the model\n",
        "model.compile(optimizer=sgd_optimizer, loss='categorical_crossentropy', metrics=['accuracy'])"
      ],
      "execution_count": 13,
      "outputs": [
        {
          "output_type": "stream",
          "text": [
            "WARNING:tensorflow:From /usr/local/lib/python2.7/dist-packages/tensorflow/python/ops/resource_variable_ops.py:435: colocate_with (from tensorflow.python.framework.ops) is deprecated and will be removed in a future version.\n",
            "Instructions for updating:\n",
            "Colocations handled automatically by placer.\n"
          ],
          "name": "stdout"
        }
      ]
    },
    {
      "metadata": {
        "id": "3hQpLv3aOIU_",
        "colab_type": "text"
      },
      "cell_type": "markdown",
      "source": [
        "### Execute the model using model.fit()"
      ]
    },
    {
      "metadata": {
        "id": "O59C_-IgOIVB",
        "colab_type": "code",
        "outputId": "8643bd9f-2ef1-4eca-fb79-9bb08bf81870",
        "colab": {
          "base_uri": "https://localhost:8080/",
          "height": 3481
        }
      },
      "cell_type": "code",
      "source": [
        "model.fit(trainX, trainY, \n",
        "          validation_data=(testX, testY), \n",
        "          epochs=100,\n",
        "          batch_size=100)"
      ],
      "execution_count": 0,
      "outputs": [
        {
          "output_type": "stream",
          "text": [
            "Train on 60000 samples, validate on 10000 samples\n",
            "WARNING:tensorflow:From /usr/local/lib/python2.7/dist-packages/tensorflow/python/ops/math_ops.py:3066: to_int32 (from tensorflow.python.ops.math_ops) is deprecated and will be removed in a future version.\n",
            "Instructions for updating:\n",
            "Use tf.cast instead.\n",
            "Epoch 1/100\n",
            "60000/60000 [==============================] - 6s 98us/sample - loss: 0.6317 - acc: 0.7780 - val_loss: 0.4664 - val_acc: 0.8333\n",
            "Epoch 2/100\n",
            "60000/60000 [==============================] - 6s 92us/sample - loss: 0.4340 - acc: 0.8440 - val_loss: 0.4256 - val_acc: 0.8483\n",
            "Epoch 3/100\n",
            "60000/60000 [==============================] - 6s 96us/sample - loss: 0.3947 - acc: 0.8576 - val_loss: 0.4039 - val_acc: 0.8542\n",
            "Epoch 4/100\n",
            "60000/60000 [==============================] - 6s 92us/sample - loss: 0.3690 - acc: 0.8666 - val_loss: 0.3855 - val_acc: 0.8642\n",
            "Epoch 5/100\n",
            "60000/60000 [==============================] - 5s 90us/sample - loss: 0.3512 - acc: 0.8714 - val_loss: 0.3810 - val_acc: 0.8687\n",
            "Epoch 6/100\n",
            "60000/60000 [==============================] - 6s 93us/sample - loss: 0.3369 - acc: 0.8771 - val_loss: 0.3727 - val_acc: 0.8681\n",
            "Epoch 7/100\n",
            "60000/60000 [==============================] - 5s 90us/sample - loss: 0.3272 - acc: 0.8799 - val_loss: 0.3632 - val_acc: 0.8744\n",
            "Epoch 8/100\n",
            "60000/60000 [==============================] - 6s 93us/sample - loss: 0.3144 - acc: 0.8845 - val_loss: 0.3588 - val_acc: 0.8719\n",
            "Epoch 9/100\n",
            "60000/60000 [==============================] - 5s 90us/sample - loss: 0.3054 - acc: 0.8879 - val_loss: 0.3634 - val_acc: 0.8740\n",
            "Epoch 10/100\n",
            "60000/60000 [==============================] - 5s 91us/sample - loss: 0.2960 - acc: 0.8905 - val_loss: 0.3525 - val_acc: 0.8752\n",
            "Epoch 11/100\n",
            "60000/60000 [==============================] - 5s 91us/sample - loss: 0.2890 - acc: 0.8927 - val_loss: 0.3628 - val_acc: 0.8710\n",
            "Epoch 12/100\n",
            "60000/60000 [==============================] - 5s 91us/sample - loss: 0.2842 - acc: 0.8942 - val_loss: 0.3468 - val_acc: 0.8748\n",
            "Epoch 13/100\n",
            "60000/60000 [==============================] - 5s 91us/sample - loss: 0.2769 - acc: 0.8974 - val_loss: 0.3519 - val_acc: 0.8780\n",
            "Epoch 14/100\n",
            "60000/60000 [==============================] - 5s 89us/sample - loss: 0.2714 - acc: 0.8991 - val_loss: 0.3505 - val_acc: 0.8782\n",
            "Epoch 15/100\n",
            "60000/60000 [==============================] - 5s 90us/sample - loss: 0.2663 - acc: 0.9012 - val_loss: 0.3470 - val_acc: 0.8787\n",
            "Epoch 16/100\n",
            "60000/60000 [==============================] - 5s 91us/sample - loss: 0.2612 - acc: 0.9029 - val_loss: 0.3457 - val_acc: 0.8789\n",
            "Epoch 17/100\n",
            "60000/60000 [==============================] - 6s 92us/sample - loss: 0.2538 - acc: 0.9056 - val_loss: 0.3485 - val_acc: 0.8801\n",
            "Epoch 18/100\n",
            "60000/60000 [==============================] - 5s 90us/sample - loss: 0.2527 - acc: 0.9062 - val_loss: 0.3431 - val_acc: 0.8832\n",
            "Epoch 19/100\n",
            "60000/60000 [==============================] - 6s 93us/sample - loss: 0.2464 - acc: 0.9082 - val_loss: 0.3550 - val_acc: 0.8784\n",
            "Epoch 20/100\n",
            "60000/60000 [==============================] - 6s 93us/sample - loss: 0.2430 - acc: 0.9097 - val_loss: 0.3521 - val_acc: 0.8818\n",
            "Epoch 21/100\n",
            "60000/60000 [==============================] - 6s 92us/sample - loss: 0.2381 - acc: 0.9107 - val_loss: 0.3470 - val_acc: 0.8805\n",
            "Epoch 22/100\n",
            "60000/60000 [==============================] - 5s 91us/sample - loss: 0.2350 - acc: 0.9126 - val_loss: 0.3501 - val_acc: 0.8793\n",
            "Epoch 23/100\n",
            "60000/60000 [==============================] - 5s 91us/sample - loss: 0.2315 - acc: 0.9140 - val_loss: 0.3558 - val_acc: 0.8793\n",
            "Epoch 24/100\n",
            "60000/60000 [==============================] - 5s 91us/sample - loss: 0.2284 - acc: 0.9154 - val_loss: 0.3525 - val_acc: 0.8794\n",
            "Epoch 25/100\n",
            "60000/60000 [==============================] - 5s 90us/sample - loss: 0.2237 - acc: 0.9154 - val_loss: 0.3645 - val_acc: 0.8777\n",
            "Epoch 26/100\n",
            "60000/60000 [==============================] - 6s 92us/sample - loss: 0.2210 - acc: 0.9173 - val_loss: 0.3550 - val_acc: 0.8826\n",
            "Epoch 27/100\n",
            "60000/60000 [==============================] - 6s 92us/sample - loss: 0.2174 - acc: 0.9191 - val_loss: 0.3574 - val_acc: 0.8819\n",
            "Epoch 28/100\n",
            "60000/60000 [==============================] - 5s 91us/sample - loss: 0.2158 - acc: 0.9189 - val_loss: 0.3605 - val_acc: 0.8800\n",
            "Epoch 29/100\n",
            "60000/60000 [==============================] - 5s 90us/sample - loss: 0.2125 - acc: 0.9208 - val_loss: 0.3595 - val_acc: 0.8792\n",
            "Epoch 30/100\n",
            "60000/60000 [==============================] - 5s 91us/sample - loss: 0.2086 - acc: 0.9217 - val_loss: 0.3656 - val_acc: 0.8818\n",
            "Epoch 31/100\n",
            "60000/60000 [==============================] - 5s 91us/sample - loss: 0.2061 - acc: 0.9230 - val_loss: 0.3575 - val_acc: 0.8821\n",
            "Epoch 32/100\n",
            "60000/60000 [==============================] - 6s 93us/sample - loss: 0.2036 - acc: 0.9235 - val_loss: 0.3737 - val_acc: 0.8822\n",
            "Epoch 33/100\n",
            "60000/60000 [==============================] - 6s 92us/sample - loss: 0.2028 - acc: 0.9241 - val_loss: 0.3698 - val_acc: 0.8808\n",
            "Epoch 34/100\n",
            "60000/60000 [==============================] - 5s 90us/sample - loss: 0.1987 - acc: 0.9257 - val_loss: 0.3697 - val_acc: 0.8816\n",
            "Epoch 35/100\n",
            "60000/60000 [==============================] - 6s 93us/sample - loss: 0.1948 - acc: 0.9286 - val_loss: 0.3681 - val_acc: 0.8797\n",
            "Epoch 36/100\n",
            "60000/60000 [==============================] - 6s 98us/sample - loss: 0.1942 - acc: 0.9269 - val_loss: 0.3774 - val_acc: 0.8807\n",
            "Epoch 37/100\n",
            "60000/60000 [==============================] - 6s 95us/sample - loss: 0.1915 - acc: 0.9271 - val_loss: 0.3793 - val_acc: 0.8826\n",
            "Epoch 38/100\n",
            "60000/60000 [==============================] - 6s 92us/sample - loss: 0.1879 - acc: 0.9293 - val_loss: 0.3662 - val_acc: 0.8848\n",
            "Epoch 39/100\n",
            "60000/60000 [==============================] - 5s 89us/sample - loss: 0.1879 - acc: 0.9299 - val_loss: 0.3665 - val_acc: 0.8843\n",
            "Epoch 40/100\n",
            "60000/60000 [==============================] - 5s 91us/sample - loss: 0.1870 - acc: 0.9303 - val_loss: 0.3751 - val_acc: 0.8804\n",
            "Epoch 41/100\n",
            "60000/60000 [==============================] - 5s 90us/sample - loss: 0.1835 - acc: 0.9314 - val_loss: 0.3824 - val_acc: 0.8815\n",
            "Epoch 42/100\n",
            "60000/60000 [==============================] - 5s 91us/sample - loss: 0.1808 - acc: 0.9323 - val_loss: 0.3766 - val_acc: 0.8807\n",
            "Epoch 43/100\n",
            "60000/60000 [==============================] - 6s 92us/sample - loss: 0.1792 - acc: 0.9329 - val_loss: 0.3738 - val_acc: 0.8809\n",
            "Epoch 44/100\n",
            "60000/60000 [==============================] - 5s 91us/sample - loss: 0.1784 - acc: 0.9335 - val_loss: 0.3872 - val_acc: 0.8806\n",
            "Epoch 45/100\n",
            "60000/60000 [==============================] - 5s 91us/sample - loss: 0.1734 - acc: 0.9347 - val_loss: 0.3964 - val_acc: 0.8806\n",
            "Epoch 46/100\n",
            "60000/60000 [==============================] - 5s 91us/sample - loss: 0.1719 - acc: 0.9354 - val_loss: 0.3818 - val_acc: 0.8839\n",
            "Epoch 47/100\n",
            "60000/60000 [==============================] - 5s 90us/sample - loss: 0.1723 - acc: 0.9354 - val_loss: 0.3765 - val_acc: 0.8821\n",
            "Epoch 48/100\n",
            "60000/60000 [==============================] - 5s 90us/sample - loss: 0.1687 - acc: 0.9366 - val_loss: 0.3924 - val_acc: 0.8798\n",
            "Epoch 49/100\n",
            "60000/60000 [==============================] - 6s 92us/sample - loss: 0.1672 - acc: 0.9372 - val_loss: 0.3807 - val_acc: 0.8829\n",
            "Epoch 50/100\n",
            "60000/60000 [==============================] - 5s 91us/sample - loss: 0.1657 - acc: 0.9374 - val_loss: 0.4009 - val_acc: 0.8815\n",
            "Epoch 51/100\n",
            "60000/60000 [==============================] - 5s 90us/sample - loss: 0.1660 - acc: 0.9381 - val_loss: 0.4041 - val_acc: 0.8798\n",
            "Epoch 52/100\n",
            "60000/60000 [==============================] - 6s 92us/sample - loss: 0.1648 - acc: 0.9375 - val_loss: 0.3896 - val_acc: 0.8832\n",
            "Epoch 53/100\n",
            "60000/60000 [==============================] - 6s 92us/sample - loss: 0.1629 - acc: 0.9380 - val_loss: 0.4033 - val_acc: 0.8812\n",
            "Epoch 54/100\n",
            "60000/60000 [==============================] - 6s 93us/sample - loss: 0.1605 - acc: 0.9386 - val_loss: 0.3897 - val_acc: 0.8809\n",
            "Epoch 55/100\n",
            "60000/60000 [==============================] - 6s 93us/sample - loss: 0.1582 - acc: 0.9406 - val_loss: 0.3948 - val_acc: 0.8841\n",
            "Epoch 56/100\n",
            "60000/60000 [==============================] - 5s 91us/sample - loss: 0.1583 - acc: 0.9407 - val_loss: 0.3986 - val_acc: 0.8817\n",
            "Epoch 57/100\n",
            "60000/60000 [==============================] - 5s 91us/sample - loss: 0.1573 - acc: 0.9402 - val_loss: 0.3958 - val_acc: 0.8825\n",
            "Epoch 58/100\n",
            "60000/60000 [==============================] - 5s 90us/sample - loss: 0.1530 - acc: 0.9427 - val_loss: 0.3930 - val_acc: 0.8813\n",
            "Epoch 59/100\n",
            "60000/60000 [==============================] - 6s 98us/sample - loss: 0.1514 - acc: 0.9436 - val_loss: 0.3974 - val_acc: 0.8847\n",
            "Epoch 60/100\n",
            "60000/60000 [==============================] - 5s 90us/sample - loss: 0.1527 - acc: 0.9423 - val_loss: 0.4035 - val_acc: 0.8841\n",
            "Epoch 61/100\n",
            "60000/60000 [==============================] - 5s 90us/sample - loss: 0.1497 - acc: 0.9437 - val_loss: 0.4029 - val_acc: 0.8800\n",
            "Epoch 62/100\n",
            "60000/60000 [==============================] - 5s 90us/sample - loss: 0.1481 - acc: 0.9446 - val_loss: 0.3902 - val_acc: 0.8841\n",
            "Epoch 63/100\n",
            "60000/60000 [==============================] - 5s 91us/sample - loss: 0.1480 - acc: 0.9454 - val_loss: 0.4214 - val_acc: 0.8817\n",
            "Epoch 64/100\n",
            "60000/60000 [==============================] - 5s 91us/sample - loss: 0.1452 - acc: 0.9450 - val_loss: 0.4125 - val_acc: 0.8827\n",
            "Epoch 65/100\n",
            "60000/60000 [==============================] - 6s 92us/sample - loss: 0.1471 - acc: 0.9442 - val_loss: 0.4121 - val_acc: 0.8823\n",
            "Epoch 66/100\n",
            "60000/60000 [==============================] - 5s 90us/sample - loss: 0.1449 - acc: 0.9446 - val_loss: 0.4405 - val_acc: 0.8749\n",
            "Epoch 67/100\n",
            "60000/60000 [==============================] - 5s 91us/sample - loss: 0.1429 - acc: 0.9476 - val_loss: 0.4443 - val_acc: 0.8786\n",
            "Epoch 68/100\n",
            "60000/60000 [==============================] - 5s 91us/sample - loss: 0.1434 - acc: 0.9463 - val_loss: 0.4228 - val_acc: 0.8809\n",
            "Epoch 69/100\n",
            "60000/60000 [==============================] - 5s 91us/sample - loss: 0.1383 - acc: 0.9476 - val_loss: 0.4270 - val_acc: 0.8806\n",
            "Epoch 70/100\n",
            "60000/60000 [==============================] - 5s 91us/sample - loss: 0.1400 - acc: 0.9473 - val_loss: 0.4269 - val_acc: 0.8818\n",
            "Epoch 71/100\n",
            "60000/60000 [==============================] - 6s 92us/sample - loss: 0.1384 - acc: 0.9475 - val_loss: 0.4214 - val_acc: 0.8822\n",
            "Epoch 72/100\n",
            "60000/60000 [==============================] - 5s 90us/sample - loss: 0.1359 - acc: 0.9492 - val_loss: 0.4400 - val_acc: 0.8804\n",
            "Epoch 73/100\n",
            "60000/60000 [==============================] - 5s 90us/sample - loss: 0.1354 - acc: 0.9501 - val_loss: 0.4239 - val_acc: 0.8836\n",
            "Epoch 74/100\n",
            "60000/60000 [==============================] - 5s 91us/sample - loss: 0.1352 - acc: 0.9481 - val_loss: 0.4233 - val_acc: 0.8844\n",
            "Epoch 75/100\n",
            "60000/60000 [==============================] - 5s 91us/sample - loss: 0.1352 - acc: 0.9483 - val_loss: 0.4546 - val_acc: 0.8767\n",
            "Epoch 76/100\n",
            "60000/60000 [==============================] - 5s 91us/sample - loss: 0.1353 - acc: 0.9488 - val_loss: 0.4442 - val_acc: 0.8823\n",
            "Epoch 77/100\n",
            "60000/60000 [==============================] - 5s 90us/sample - loss: 0.1332 - acc: 0.9488 - val_loss: 0.4412 - val_acc: 0.8785\n",
            "Epoch 78/100\n",
            "60000/60000 [==============================] - 5s 91us/sample - loss: 0.1291 - acc: 0.9511 - val_loss: 0.4390 - val_acc: 0.8829\n",
            "Epoch 79/100\n",
            "60000/60000 [==============================] - 5s 91us/sample - loss: 0.1326 - acc: 0.9500 - val_loss: 0.4473 - val_acc: 0.8756\n",
            "Epoch 80/100\n",
            "60000/60000 [==============================] - 5s 90us/sample - loss: 0.1284 - acc: 0.9526 - val_loss: 0.4522 - val_acc: 0.8790\n",
            "Epoch 81/100\n",
            "60000/60000 [==============================] - 5s 90us/sample - loss: 0.1290 - acc: 0.9509 - val_loss: 0.4432 - val_acc: 0.8809\n",
            "Epoch 82/100\n",
            "60000/60000 [==============================] - 5s 91us/sample - loss: 0.1262 - acc: 0.9525 - val_loss: 0.4519 - val_acc: 0.8772\n",
            "Epoch 83/100\n",
            "60000/60000 [==============================] - 5s 90us/sample - loss: 0.1279 - acc: 0.9518 - val_loss: 0.4497 - val_acc: 0.8801\n",
            "Epoch 84/100\n",
            "60000/60000 [==============================] - 5s 91us/sample - loss: 0.1262 - acc: 0.9530 - val_loss: 0.4674 - val_acc: 0.8793\n",
            "Epoch 85/100\n",
            "60000/60000 [==============================] - 5s 90us/sample - loss: 0.1234 - acc: 0.9528 - val_loss: 0.4493 - val_acc: 0.8803\n",
            "Epoch 86/100\n",
            "60000/60000 [==============================] - 5s 90us/sample - loss: 0.1220 - acc: 0.9542 - val_loss: 0.4680 - val_acc: 0.8788\n",
            "Epoch 87/100\n",
            "60000/60000 [==============================] - 6s 92us/sample - loss: 0.1224 - acc: 0.9547 - val_loss: 0.4600 - val_acc: 0.8765\n",
            "Epoch 88/100\n",
            "60000/60000 [==============================] - 5s 91us/sample - loss: 0.1195 - acc: 0.9553 - val_loss: 0.4666 - val_acc: 0.8790\n",
            "Epoch 89/100\n",
            "60000/60000 [==============================] - 5s 91us/sample - loss: 0.1218 - acc: 0.9540 - val_loss: 0.4709 - val_acc: 0.8777\n",
            "Epoch 90/100\n",
            "60000/60000 [==============================] - 5s 90us/sample - loss: 0.1211 - acc: 0.9546 - val_loss: 0.4483 - val_acc: 0.8799\n",
            "Epoch 91/100\n",
            "60000/60000 [==============================] - 5s 88us/sample - loss: 0.1196 - acc: 0.9540 - val_loss: 0.4682 - val_acc: 0.8806\n",
            "Epoch 92/100\n",
            "60000/60000 [==============================] - 6s 94us/sample - loss: 0.1179 - acc: 0.9552 - val_loss: 0.4540 - val_acc: 0.8797\n",
            "Epoch 93/100\n",
            "60000/60000 [==============================] - 6s 99us/sample - loss: 0.1154 - acc: 0.9571 - val_loss: 0.4559 - val_acc: 0.8840\n",
            "Epoch 94/100\n",
            "60000/60000 [==============================] - 6s 93us/sample - loss: 0.1188 - acc: 0.9548 - val_loss: 0.4685 - val_acc: 0.8802\n",
            "Epoch 95/100\n",
            "60000/60000 [==============================] - 5s 91us/sample - loss: 0.1201 - acc: 0.9545 - val_loss: 0.4699 - val_acc: 0.8808\n",
            "Epoch 96/100\n",
            "60000/60000 [==============================] - 5s 90us/sample - loss: 0.1199 - acc: 0.9548 - val_loss: 0.4643 - val_acc: 0.8840\n",
            "Epoch 97/100\n",
            "60000/60000 [==============================] - 5s 91us/sample - loss: 0.1162 - acc: 0.9562 - val_loss: 0.4803 - val_acc: 0.8812\n",
            "Epoch 98/100\n",
            "60000/60000 [==============================] - 6s 92us/sample - loss: 0.1159 - acc: 0.9567 - val_loss: 0.4831 - val_acc: 0.8785\n",
            "Epoch 99/100\n",
            "60000/60000 [==============================] - 5s 91us/sample - loss: 0.1138 - acc: 0.9573 - val_loss: 0.4948 - val_acc: 0.8779\n",
            "Epoch 100/100\n",
            "60000/60000 [==============================] - 6s 92us/sample - loss: 0.1144 - acc: 0.9582 - val_loss: 0.4804 - val_acc: 0.8839\n"
          ],
          "name": "stdout"
        },
        {
          "output_type": "execute_result",
          "data": {
            "text/plain": [
              "<tensorflow.python.keras.callbacks.History at 0x7f88e8793590>"
            ]
          },
          "metadata": {
            "tags": []
          },
          "execution_count": 13
        }
      ]
    },
    {
      "metadata": {
        "id": "JdzDtGwDOIVF",
        "colab_type": "text"
      },
      "cell_type": "markdown",
      "source": [
        "### In the above Neural Network model add Batch Normalization layer after the input layer and repeat the steps."
      ]
    },
    {
      "metadata": {
        "id": "kndfpdidOIVI",
        "colab_type": "code",
        "colab": {}
      },
      "cell_type": "code",
      "source": [
        "#Initialize Sequential model\n",
        "model = tf.keras.models.Sequential()\n",
        "\n",
        "#Reshape data from 2D to 1D -> 28x28 to 784\n",
        "model.add(tf.keras.layers.Reshape((784,),input_shape=(28,28,)))\n",
        "\n",
        "#Normalize the data\n",
        "model.add(tf.keras.layers.BatchNormalization())\n",
        "\n",
        "#Add Dense Layer which provides 10 Outputs after applying softmax\n",
        "model.add(tf.keras.layers.Dense(10, activation='softmax'))\n",
        "\n",
        "#Create optimizer with non-default learning rate\n",
        "sgd_optimizer = tf.keras.optimizers.SGD(lr=0.01)\n",
        "\n",
        "#Compile the model\n",
        "model.compile(optimizer=sgd_optimizer, loss='categorical_crossentropy', metrics=['accuracy'])"
      ],
      "execution_count": 0,
      "outputs": []
    },
    {
      "metadata": {
        "id": "mwk3T5LJOIVN",
        "colab_type": "text"
      },
      "cell_type": "markdown",
      "source": [
        "### Execute the model"
      ]
    },
    {
      "metadata": {
        "id": "JNLR8tcBOIVP",
        "colab_type": "code",
        "outputId": "1ad6596e-5e6d-478c-c197-30e317f9558d",
        "colab": {
          "base_uri": "https://localhost:8080/",
          "height": 3481
        }
      },
      "cell_type": "code",
      "source": [
        "model.fit(trainX, trainY, \n",
        "          validation_data=(testX, testY), \n",
        "          epochs=100,\n",
        "          batch_size=100)"
      ],
      "execution_count": 15,
      "outputs": [
        {
          "output_type": "stream",
          "text": [
            "Train on 60000 samples, validate on 10000 samples\n",
            "WARNING:tensorflow:From /usr/local/lib/python2.7/dist-packages/tensorflow/python/ops/math_ops.py:3066: to_int32 (from tensorflow.python.ops.math_ops) is deprecated and will be removed in a future version.\n",
            "Instructions for updating:\n",
            "Use tf.cast instead.\n",
            "Epoch 1/100\n",
            "60000/60000 [==============================] - 2s 40us/sample - loss: 0.7034 - acc: 0.7599 - val_loss: 0.5671 - val_acc: 0.8010\n",
            "Epoch 2/100\n",
            "60000/60000 [==============================] - 2s 34us/sample - loss: 0.5200 - acc: 0.8217 - val_loss: 0.5219 - val_acc: 0.8205\n",
            "Epoch 3/100\n",
            "60000/60000 [==============================] - 2s 30us/sample - loss: 0.4876 - acc: 0.8332 - val_loss: 0.5037 - val_acc: 0.8270\n",
            "Epoch 4/100\n",
            "60000/60000 [==============================] - 2s 28us/sample - loss: 0.4686 - acc: 0.8390 - val_loss: 0.4898 - val_acc: 0.8316\n",
            "Epoch 5/100\n",
            "60000/60000 [==============================] - 2s 28us/sample - loss: 0.4576 - acc: 0.8433 - val_loss: 0.4864 - val_acc: 0.8315\n",
            "Epoch 6/100\n",
            "60000/60000 [==============================] - 2s 29us/sample - loss: 0.4504 - acc: 0.8446 - val_loss: 0.4778 - val_acc: 0.8334\n",
            "Epoch 7/100\n",
            "60000/60000 [==============================] - 2s 29us/sample - loss: 0.4424 - acc: 0.8480 - val_loss: 0.4744 - val_acc: 0.8368\n",
            "Epoch 8/100\n",
            "60000/60000 [==============================] - 2s 28us/sample - loss: 0.4372 - acc: 0.8487 - val_loss: 0.4713 - val_acc: 0.8370\n",
            "Epoch 9/100\n",
            "60000/60000 [==============================] - 2s 29us/sample - loss: 0.4320 - acc: 0.8513 - val_loss: 0.4683 - val_acc: 0.8356\n",
            "Epoch 10/100\n",
            "60000/60000 [==============================] - 2s 30us/sample - loss: 0.4292 - acc: 0.8537 - val_loss: 0.4642 - val_acc: 0.8397\n",
            "Epoch 11/100\n",
            "60000/60000 [==============================] - 2s 29us/sample - loss: 0.4267 - acc: 0.8530 - val_loss: 0.4647 - val_acc: 0.8384\n",
            "Epoch 12/100\n",
            "60000/60000 [==============================] - 2s 32us/sample - loss: 0.4224 - acc: 0.8531 - val_loss: 0.4634 - val_acc: 0.8401\n",
            "Epoch 13/100\n",
            "60000/60000 [==============================] - 2s 30us/sample - loss: 0.4209 - acc: 0.8550 - val_loss: 0.4590 - val_acc: 0.8418\n",
            "Epoch 14/100\n",
            "60000/60000 [==============================] - 2s 33us/sample - loss: 0.4179 - acc: 0.8563 - val_loss: 0.4579 - val_acc: 0.8407\n",
            "Epoch 15/100\n",
            "60000/60000 [==============================] - 2s 30us/sample - loss: 0.4151 - acc: 0.8575 - val_loss: 0.4562 - val_acc: 0.8414\n",
            "Epoch 16/100\n",
            "60000/60000 [==============================] - 2s 29us/sample - loss: 0.4136 - acc: 0.8584 - val_loss: 0.4564 - val_acc: 0.8391\n",
            "Epoch 17/100\n",
            "60000/60000 [==============================] - 2s 32us/sample - loss: 0.4132 - acc: 0.8571 - val_loss: 0.4570 - val_acc: 0.8417\n",
            "Epoch 18/100\n",
            "60000/60000 [==============================] - 2s 32us/sample - loss: 0.4090 - acc: 0.8587 - val_loss: 0.4558 - val_acc: 0.8400\n",
            "Epoch 19/100\n",
            "60000/60000 [==============================] - 2s 32us/sample - loss: 0.4081 - acc: 0.8579 - val_loss: 0.4546 - val_acc: 0.8389\n",
            "Epoch 20/100\n",
            "60000/60000 [==============================] - 2s 37us/sample - loss: 0.4061 - acc: 0.8598 - val_loss: 0.4544 - val_acc: 0.8404\n",
            "Epoch 21/100\n",
            "60000/60000 [==============================] - 2s 34us/sample - loss: 0.4055 - acc: 0.8604 - val_loss: 0.4531 - val_acc: 0.8417\n",
            "Epoch 22/100\n",
            "60000/60000 [==============================] - 2s 30us/sample - loss: 0.4046 - acc: 0.8613 - val_loss: 0.4537 - val_acc: 0.8420\n",
            "Epoch 23/100\n",
            "60000/60000 [==============================] - 2s 31us/sample - loss: 0.4031 - acc: 0.8600 - val_loss: 0.4499 - val_acc: 0.8440\n",
            "Epoch 24/100\n",
            "60000/60000 [==============================] - 2s 30us/sample - loss: 0.4023 - acc: 0.8613 - val_loss: 0.4547 - val_acc: 0.8402\n",
            "Epoch 25/100\n",
            "60000/60000 [==============================] - 2s 33us/sample - loss: 0.4019 - acc: 0.8616 - val_loss: 0.4499 - val_acc: 0.8440\n",
            "Epoch 26/100\n",
            "60000/60000 [==============================] - 2s 33us/sample - loss: 0.4000 - acc: 0.8612 - val_loss: 0.4498 - val_acc: 0.8448\n",
            "Epoch 27/100\n",
            "60000/60000 [==============================] - 2s 29us/sample - loss: 0.4004 - acc: 0.8614 - val_loss: 0.4527 - val_acc: 0.8427\n",
            "Epoch 28/100\n",
            "60000/60000 [==============================] - 2s 31us/sample - loss: 0.3978 - acc: 0.8619 - val_loss: 0.4481 - val_acc: 0.8448\n",
            "Epoch 29/100\n",
            "60000/60000 [==============================] - 2s 30us/sample - loss: 0.3971 - acc: 0.8631 - val_loss: 0.4472 - val_acc: 0.8429\n",
            "Epoch 30/100\n",
            "60000/60000 [==============================] - 2s 32us/sample - loss: 0.3978 - acc: 0.8618 - val_loss: 0.4485 - val_acc: 0.8435\n",
            "Epoch 31/100\n",
            "60000/60000 [==============================] - 2s 31us/sample - loss: 0.3950 - acc: 0.8622 - val_loss: 0.4492 - val_acc: 0.8435\n",
            "Epoch 32/100\n",
            "60000/60000 [==============================] - 2s 31us/sample - loss: 0.3949 - acc: 0.8631 - val_loss: 0.4480 - val_acc: 0.8433\n",
            "Epoch 33/100\n",
            "60000/60000 [==============================] - 2s 29us/sample - loss: 0.3957 - acc: 0.8617 - val_loss: 0.4496 - val_acc: 0.8404\n",
            "Epoch 34/100\n",
            "60000/60000 [==============================] - 2s 31us/sample - loss: 0.3947 - acc: 0.8633 - val_loss: 0.4475 - val_acc: 0.8439\n",
            "Epoch 35/100\n",
            "60000/60000 [==============================] - 2s 31us/sample - loss: 0.3926 - acc: 0.8635 - val_loss: 0.4480 - val_acc: 0.8419\n",
            "Epoch 36/100\n",
            "60000/60000 [==============================] - 2s 29us/sample - loss: 0.3934 - acc: 0.8639 - val_loss: 0.4477 - val_acc: 0.8438\n",
            "Epoch 37/100\n",
            "60000/60000 [==============================] - 2s 31us/sample - loss: 0.3930 - acc: 0.8652 - val_loss: 0.4467 - val_acc: 0.8417\n",
            "Epoch 38/100\n",
            "60000/60000 [==============================] - 2s 29us/sample - loss: 0.3921 - acc: 0.8646 - val_loss: 0.4466 - val_acc: 0.8437\n",
            "Epoch 39/100\n",
            "60000/60000 [==============================] - 2s 31us/sample - loss: 0.3920 - acc: 0.8644 - val_loss: 0.4459 - val_acc: 0.8438\n",
            "Epoch 40/100\n",
            "60000/60000 [==============================] - 2s 31us/sample - loss: 0.3907 - acc: 0.8644 - val_loss: 0.4465 - val_acc: 0.8427\n",
            "Epoch 41/100\n",
            "60000/60000 [==============================] - 2s 30us/sample - loss: 0.3902 - acc: 0.8637 - val_loss: 0.4484 - val_acc: 0.8431\n",
            "Epoch 42/100\n",
            "60000/60000 [==============================] - 2s 31us/sample - loss: 0.3900 - acc: 0.8648 - val_loss: 0.4460 - val_acc: 0.8435\n",
            "Epoch 43/100\n",
            "60000/60000 [==============================] - 2s 30us/sample - loss: 0.3888 - acc: 0.8645 - val_loss: 0.4474 - val_acc: 0.8449\n",
            "Epoch 44/100\n",
            "60000/60000 [==============================] - 2s 31us/sample - loss: 0.3897 - acc: 0.8646 - val_loss: 0.4464 - val_acc: 0.8441\n",
            "Epoch 45/100\n",
            "60000/60000 [==============================] - 2s 31us/sample - loss: 0.3881 - acc: 0.8651 - val_loss: 0.4471 - val_acc: 0.8422\n",
            "Epoch 46/100\n",
            "60000/60000 [==============================] - 2s 34us/sample - loss: 0.3884 - acc: 0.8648 - val_loss: 0.4457 - val_acc: 0.8440\n",
            "Epoch 47/100\n",
            "60000/60000 [==============================] - 2s 31us/sample - loss: 0.3893 - acc: 0.8648 - val_loss: 0.4454 - val_acc: 0.8450\n",
            "Epoch 48/100\n",
            "60000/60000 [==============================] - 2s 30us/sample - loss: 0.3877 - acc: 0.8648 - val_loss: 0.4462 - val_acc: 0.8426\n",
            "Epoch 49/100\n",
            "60000/60000 [==============================] - 2s 34us/sample - loss: 0.3871 - acc: 0.8655 - val_loss: 0.4444 - val_acc: 0.8452\n",
            "Epoch 50/100\n",
            "60000/60000 [==============================] - 2s 31us/sample - loss: 0.3869 - acc: 0.8655 - val_loss: 0.4483 - val_acc: 0.8433\n",
            "Epoch 51/100\n",
            "60000/60000 [==============================] - 2s 34us/sample - loss: 0.3849 - acc: 0.8652 - val_loss: 0.4455 - val_acc: 0.8451\n",
            "Epoch 52/100\n",
            "60000/60000 [==============================] - 2s 30us/sample - loss: 0.3863 - acc: 0.8650 - val_loss: 0.4474 - val_acc: 0.8421\n",
            "Epoch 53/100\n",
            "60000/60000 [==============================] - 2s 34us/sample - loss: 0.3848 - acc: 0.8667 - val_loss: 0.4467 - val_acc: 0.8434\n",
            "Epoch 54/100\n",
            "60000/60000 [==============================] - 2s 33us/sample - loss: 0.3852 - acc: 0.8660 - val_loss: 0.4459 - val_acc: 0.8443\n",
            "Epoch 55/100\n",
            "60000/60000 [==============================] - 2s 34us/sample - loss: 0.3834 - acc: 0.8660 - val_loss: 0.4445 - val_acc: 0.8451\n",
            "Epoch 56/100\n",
            "60000/60000 [==============================] - 2s 33us/sample - loss: 0.3842 - acc: 0.8658 - val_loss: 0.4470 - val_acc: 0.8438\n",
            "Epoch 57/100\n",
            "60000/60000 [==============================] - 2s 33us/sample - loss: 0.3836 - acc: 0.8662 - val_loss: 0.4507 - val_acc: 0.8448\n",
            "Epoch 58/100\n",
            "60000/60000 [==============================] - 2s 33us/sample - loss: 0.3828 - acc: 0.8659 - val_loss: 0.4500 - val_acc: 0.8438\n",
            "Epoch 59/100\n",
            "60000/60000 [==============================] - 2s 35us/sample - loss: 0.3813 - acc: 0.8672 - val_loss: 0.4457 - val_acc: 0.8449\n",
            "Epoch 60/100\n",
            "60000/60000 [==============================] - 2s 36us/sample - loss: 0.3822 - acc: 0.8666 - val_loss: 0.4464 - val_acc: 0.8445\n",
            "Epoch 61/100\n",
            "60000/60000 [==============================] - 2s 37us/sample - loss: 0.3826 - acc: 0.8672 - val_loss: 0.4499 - val_acc: 0.8436\n",
            "Epoch 62/100\n",
            "60000/60000 [==============================] - 2s 36us/sample - loss: 0.3824 - acc: 0.8660 - val_loss: 0.4460 - val_acc: 0.8448\n",
            "Epoch 63/100\n",
            "60000/60000 [==============================] - 2s 37us/sample - loss: 0.3812 - acc: 0.8663 - val_loss: 0.4468 - val_acc: 0.8456\n",
            "Epoch 64/100\n",
            "60000/60000 [==============================] - 2s 33us/sample - loss: 0.3828 - acc: 0.8658 - val_loss: 0.4483 - val_acc: 0.8438\n",
            "Epoch 65/100\n",
            "60000/60000 [==============================] - 2s 33us/sample - loss: 0.3816 - acc: 0.8657 - val_loss: 0.4452 - val_acc: 0.8450\n",
            "Epoch 66/100\n",
            "60000/60000 [==============================] - 2s 33us/sample - loss: 0.3805 - acc: 0.8673 - val_loss: 0.4467 - val_acc: 0.8453\n",
            "Epoch 67/100\n",
            "60000/60000 [==============================] - 2s 35us/sample - loss: 0.3818 - acc: 0.8662 - val_loss: 0.4473 - val_acc: 0.8445\n",
            "Epoch 68/100\n",
            "60000/60000 [==============================] - 2s 34us/sample - loss: 0.3792 - acc: 0.8680 - val_loss: 0.4474 - val_acc: 0.8443\n",
            "Epoch 69/100\n",
            "60000/60000 [==============================] - 2s 39us/sample - loss: 0.3802 - acc: 0.8673 - val_loss: 0.4513 - val_acc: 0.8429\n",
            "Epoch 70/100\n",
            "60000/60000 [==============================] - 2s 38us/sample - loss: 0.3791 - acc: 0.8674 - val_loss: 0.4470 - val_acc: 0.8453\n",
            "Epoch 71/100\n",
            "60000/60000 [==============================] - 2s 39us/sample - loss: 0.3795 - acc: 0.8667 - val_loss: 0.4507 - val_acc: 0.8438\n",
            "Epoch 72/100\n",
            "60000/60000 [==============================] - 2s 38us/sample - loss: 0.3802 - acc: 0.8670 - val_loss: 0.4461 - val_acc: 0.8451\n",
            "Epoch 73/100\n",
            "60000/60000 [==============================] - 2s 38us/sample - loss: 0.3790 - acc: 0.8675 - val_loss: 0.4454 - val_acc: 0.8447\n",
            "Epoch 74/100\n",
            "60000/60000 [==============================] - 2s 35us/sample - loss: 0.3803 - acc: 0.8674 - val_loss: 0.4457 - val_acc: 0.8442\n",
            "Epoch 75/100\n",
            "60000/60000 [==============================] - 2s 32us/sample - loss: 0.3796 - acc: 0.8675 - val_loss: 0.4490 - val_acc: 0.8466\n",
            "Epoch 76/100\n",
            "60000/60000 [==============================] - 2s 34us/sample - loss: 0.3796 - acc: 0.8673 - val_loss: 0.4476 - val_acc: 0.8450\n",
            "Epoch 77/100\n",
            "60000/60000 [==============================] - 2s 31us/sample - loss: 0.3788 - acc: 0.8683 - val_loss: 0.4482 - val_acc: 0.8433\n",
            "Epoch 78/100\n",
            "60000/60000 [==============================] - 2s 33us/sample - loss: 0.3788 - acc: 0.8677 - val_loss: 0.4489 - val_acc: 0.8438\n",
            "Epoch 79/100\n",
            "60000/60000 [==============================] - 2s 31us/sample - loss: 0.3777 - acc: 0.8677 - val_loss: 0.4489 - val_acc: 0.8437\n",
            "Epoch 80/100\n",
            "60000/60000 [==============================] - 2s 36us/sample - loss: 0.3769 - acc: 0.8685 - val_loss: 0.4472 - val_acc: 0.8440\n",
            "Epoch 81/100\n",
            "60000/60000 [==============================] - 2s 35us/sample - loss: 0.3767 - acc: 0.8682 - val_loss: 0.4487 - val_acc: 0.8455\n",
            "Epoch 82/100\n",
            "60000/60000 [==============================] - 2s 35us/sample - loss: 0.3787 - acc: 0.8681 - val_loss: 0.4446 - val_acc: 0.8458\n",
            "Epoch 83/100\n",
            "60000/60000 [==============================] - 2s 30us/sample - loss: 0.3762 - acc: 0.8682 - val_loss: 0.4488 - val_acc: 0.8451\n",
            "Epoch 84/100\n",
            "60000/60000 [==============================] - 2s 34us/sample - loss: 0.3783 - acc: 0.8686 - val_loss: 0.4465 - val_acc: 0.8461\n",
            "Epoch 85/100\n",
            "60000/60000 [==============================] - 2s 31us/sample - loss: 0.3765 - acc: 0.8682 - val_loss: 0.4519 - val_acc: 0.8414\n",
            "Epoch 86/100\n",
            "60000/60000 [==============================] - 2s 34us/sample - loss: 0.3779 - acc: 0.8679 - val_loss: 0.4528 - val_acc: 0.8434\n",
            "Epoch 87/100\n",
            "60000/60000 [==============================] - 2s 31us/sample - loss: 0.3776 - acc: 0.8677 - val_loss: 0.4495 - val_acc: 0.8447\n",
            "Epoch 88/100\n",
            "60000/60000 [==============================] - 2s 32us/sample - loss: 0.3777 - acc: 0.8679 - val_loss: 0.4482 - val_acc: 0.8465\n",
            "Epoch 89/100\n",
            "60000/60000 [==============================] - 2s 30us/sample - loss: 0.3760 - acc: 0.8681 - val_loss: 0.4485 - val_acc: 0.8435\n",
            "Epoch 90/100\n",
            "60000/60000 [==============================] - 2s 29us/sample - loss: 0.3764 - acc: 0.8674 - val_loss: 0.4500 - val_acc: 0.8434\n",
            "Epoch 91/100\n",
            "60000/60000 [==============================] - 2s 31us/sample - loss: 0.3761 - acc: 0.8678 - val_loss: 0.4498 - val_acc: 0.8439\n",
            "Epoch 92/100\n",
            "60000/60000 [==============================] - 2s 29us/sample - loss: 0.3762 - acc: 0.8692 - val_loss: 0.4507 - val_acc: 0.8426\n",
            "Epoch 93/100\n",
            "60000/60000 [==============================] - 2s 30us/sample - loss: 0.3748 - acc: 0.8685 - val_loss: 0.4498 - val_acc: 0.8408\n",
            "Epoch 94/100\n",
            "60000/60000 [==============================] - 2s 29us/sample - loss: 0.3753 - acc: 0.8683 - val_loss: 0.4498 - val_acc: 0.8426\n",
            "Epoch 95/100\n",
            "60000/60000 [==============================] - 2s 30us/sample - loss: 0.3762 - acc: 0.8687 - val_loss: 0.4467 - val_acc: 0.8449\n",
            "Epoch 96/100\n",
            "60000/60000 [==============================] - 2s 30us/sample - loss: 0.3753 - acc: 0.8682 - val_loss: 0.4476 - val_acc: 0.8458\n",
            "Epoch 97/100\n",
            "60000/60000 [==============================] - 2s 31us/sample - loss: 0.3754 - acc: 0.8679 - val_loss: 0.4478 - val_acc: 0.8433\n",
            "Epoch 98/100\n",
            "60000/60000 [==============================] - 2s 29us/sample - loss: 0.3760 - acc: 0.8684 - val_loss: 0.4468 - val_acc: 0.8452\n",
            "Epoch 99/100\n",
            "60000/60000 [==============================] - 2s 31us/sample - loss: 0.3756 - acc: 0.8687 - val_loss: 0.4474 - val_acc: 0.8447\n",
            "Epoch 100/100\n",
            "60000/60000 [==============================] - 2s 31us/sample - loss: 0.3748 - acc: 0.8691 - val_loss: 0.4518 - val_acc: 0.8460\n"
          ],
          "name": "stdout"
        },
        {
          "output_type": "execute_result",
          "data": {
            "text/plain": [
              "<tensorflow.python.keras.callbacks.History at 0x7f56ecf2dbd0>"
            ]
          },
          "metadata": {
            "tags": []
          },
          "execution_count": 15
        }
      ]
    },
    {
      "metadata": {
        "id": "Py-KwkmjOIVU",
        "colab_type": "text"
      },
      "cell_type": "markdown",
      "source": [
        "### Customize the learning rate to 0.001 in sgd optimizer and run the model"
      ]
    },
    {
      "metadata": {
        "id": "yLXUE9jWOIVV",
        "colab_type": "code",
        "colab": {}
      },
      "cell_type": "code",
      "source": [
        "#Initialize Sequential model\n",
        "model = tf.keras.models.Sequential()\n",
        "\n",
        "#Reshape data from 2D to 1D -> 28x28 to 784\n",
        "model.add(tf.keras.layers.Reshape((784,),input_shape=(28,28,)))\n",
        "\n",
        "#Normalize the data\n",
        "model.add(tf.keras.layers.BatchNormalization())\n",
        "\n",
        "#Add Dense Layer which provides 10 Outputs after applying softmax\n",
        "model.add(tf.keras.layers.Dense(10, activation='softmax'))\n",
        "\n",
        "#Create optimizer with non-default learning rate\n",
        "sgd_optimizer = tf.keras.optimizers.SGD(lr=0.001)\n",
        "\n",
        "#Compile the model\n",
        "model.compile(optimizer=sgd_optimizer, loss='categorical_crossentropy', metrics=['accuracy'])"
      ],
      "execution_count": 0,
      "outputs": []
    },
    {
      "metadata": {
        "id": "pJUqA5T4OIVc",
        "colab_type": "code",
        "colab": {
          "base_uri": "https://localhost:8080/",
          "height": 3410
        },
        "outputId": "ef891de9-84d8-4686-abf1-234666c42788"
      },
      "cell_type": "code",
      "source": [
        "model.fit(trainX, trainY, \n",
        "          validation_data=(testX, testY), \n",
        "          epochs=100,\n",
        "          batch_size=100)"
      ],
      "execution_count": 17,
      "outputs": [
        {
          "output_type": "stream",
          "text": [
            "Train on 60000 samples, validate on 10000 samples\n",
            "Epoch 1/100\n",
            "60000/60000 [==============================] - 2s 35us/sample - loss: 1.2656 - acc: 0.5771 - val_loss: 0.8923 - val_acc: 0.7005\n",
            "Epoch 2/100\n",
            "60000/60000 [==============================] - 2s 32us/sample - loss: 0.8106 - acc: 0.7211 - val_loss: 0.7535 - val_acc: 0.7432\n",
            "Epoch 3/100\n",
            "60000/60000 [==============================] - 2s 30us/sample - loss: 0.7129 - acc: 0.7544 - val_loss: 0.6901 - val_acc: 0.7625\n",
            "Epoch 4/100\n",
            "60000/60000 [==============================] - 2s 32us/sample - loss: 0.6604 - acc: 0.7726 - val_loss: 0.6526 - val_acc: 0.7763\n",
            "Epoch 5/100\n",
            "60000/60000 [==============================] - 2s 30us/sample - loss: 0.6288 - acc: 0.7845 - val_loss: 0.6263 - val_acc: 0.7855\n",
            "Epoch 6/100\n",
            "60000/60000 [==============================] - 2s 29us/sample - loss: 0.6050 - acc: 0.7925 - val_loss: 0.6085 - val_acc: 0.7916\n",
            "Epoch 7/100\n",
            "60000/60000 [==============================] - 2s 30us/sample - loss: 0.5855 - acc: 0.7997 - val_loss: 0.5927 - val_acc: 0.7974\n",
            "Epoch 8/100\n",
            "60000/60000 [==============================] - 2s 29us/sample - loss: 0.5730 - acc: 0.8046 - val_loss: 0.5815 - val_acc: 0.8010\n",
            "Epoch 9/100\n",
            "60000/60000 [==============================] - 2s 29us/sample - loss: 0.5598 - acc: 0.8084 - val_loss: 0.5705 - val_acc: 0.8038\n",
            "Epoch 10/100\n",
            "60000/60000 [==============================] - 2s 28us/sample - loss: 0.5503 - acc: 0.8115 - val_loss: 0.5630 - val_acc: 0.8070\n",
            "Epoch 11/100\n",
            "60000/60000 [==============================] - 2s 30us/sample - loss: 0.5420 - acc: 0.8142 - val_loss: 0.5570 - val_acc: 0.8103\n",
            "Epoch 12/100\n",
            "60000/60000 [==============================] - 2s 29us/sample - loss: 0.5343 - acc: 0.8177 - val_loss: 0.5501 - val_acc: 0.8129\n",
            "Epoch 13/100\n",
            "60000/60000 [==============================] - 2s 33us/sample - loss: 0.5282 - acc: 0.8191 - val_loss: 0.5455 - val_acc: 0.8149\n",
            "Epoch 14/100\n",
            "60000/60000 [==============================] - 2s 33us/sample - loss: 0.5226 - acc: 0.8221 - val_loss: 0.5422 - val_acc: 0.8154\n",
            "Epoch 15/100\n",
            "60000/60000 [==============================] - 2s 35us/sample - loss: 0.5187 - acc: 0.8231 - val_loss: 0.5352 - val_acc: 0.8176\n",
            "Epoch 16/100\n",
            "60000/60000 [==============================] - 2s 33us/sample - loss: 0.5126 - acc: 0.8253 - val_loss: 0.5317 - val_acc: 0.8186\n",
            "Epoch 17/100\n",
            "60000/60000 [==============================] - 2s 35us/sample - loss: 0.5098 - acc: 0.8250 - val_loss: 0.5275 - val_acc: 0.8191\n",
            "Epoch 18/100\n",
            "60000/60000 [==============================] - 2s 31us/sample - loss: 0.5051 - acc: 0.8264 - val_loss: 0.5251 - val_acc: 0.8188\n",
            "Epoch 19/100\n",
            "60000/60000 [==============================] - 2s 31us/sample - loss: 0.5011 - acc: 0.8284 - val_loss: 0.5223 - val_acc: 0.8209\n",
            "Epoch 20/100\n",
            "60000/60000 [==============================] - 2s 30us/sample - loss: 0.4989 - acc: 0.8301 - val_loss: 0.5215 - val_acc: 0.8218\n",
            "Epoch 21/100\n",
            "60000/60000 [==============================] - 2s 31us/sample - loss: 0.4961 - acc: 0.8311 - val_loss: 0.5172 - val_acc: 0.8228\n",
            "Epoch 22/100\n",
            "60000/60000 [==============================] - 2s 29us/sample - loss: 0.4914 - acc: 0.8336 - val_loss: 0.5153 - val_acc: 0.8228\n",
            "Epoch 23/100\n",
            "60000/60000 [==============================] - 2s 29us/sample - loss: 0.4880 - acc: 0.8344 - val_loss: 0.5137 - val_acc: 0.8240\n",
            "Epoch 24/100\n",
            "60000/60000 [==============================] - 2s 29us/sample - loss: 0.4873 - acc: 0.8334 - val_loss: 0.5109 - val_acc: 0.8248\n",
            "Epoch 25/100\n",
            "60000/60000 [==============================] - 2s 28us/sample - loss: 0.4846 - acc: 0.8344 - val_loss: 0.5082 - val_acc: 0.8244\n",
            "Epoch 26/100\n",
            "60000/60000 [==============================] - 2s 29us/sample - loss: 0.4828 - acc: 0.8357 - val_loss: 0.5066 - val_acc: 0.8249\n",
            "Epoch 27/100\n",
            "60000/60000 [==============================] - 2s 28us/sample - loss: 0.4803 - acc: 0.8359 - val_loss: 0.5061 - val_acc: 0.8248\n",
            "Epoch 28/100\n",
            "60000/60000 [==============================] - 2s 29us/sample - loss: 0.4770 - acc: 0.8369 - val_loss: 0.5033 - val_acc: 0.8258\n",
            "Epoch 29/100\n",
            "60000/60000 [==============================] - 2s 28us/sample - loss: 0.4759 - acc: 0.8372 - val_loss: 0.5027 - val_acc: 0.8255\n",
            "Epoch 30/100\n",
            "60000/60000 [==============================] - 2s 29us/sample - loss: 0.4745 - acc: 0.8385 - val_loss: 0.5026 - val_acc: 0.8266\n",
            "Epoch 31/100\n",
            "60000/60000 [==============================] - 2s 29us/sample - loss: 0.4716 - acc: 0.8390 - val_loss: 0.4994 - val_acc: 0.8260\n",
            "Epoch 32/100\n",
            "60000/60000 [==============================] - 2s 29us/sample - loss: 0.4701 - acc: 0.8395 - val_loss: 0.4982 - val_acc: 0.8261\n",
            "Epoch 33/100\n",
            "60000/60000 [==============================] - 2s 28us/sample - loss: 0.4692 - acc: 0.8389 - val_loss: 0.4960 - val_acc: 0.8277\n",
            "Epoch 34/100\n",
            "60000/60000 [==============================] - 2s 29us/sample - loss: 0.4696 - acc: 0.8401 - val_loss: 0.4962 - val_acc: 0.8272\n",
            "Epoch 35/100\n",
            "60000/60000 [==============================] - 2s 28us/sample - loss: 0.4665 - acc: 0.8406 - val_loss: 0.4939 - val_acc: 0.8280\n",
            "Epoch 36/100\n",
            "60000/60000 [==============================] - 2s 29us/sample - loss: 0.4647 - acc: 0.8411 - val_loss: 0.4940 - val_acc: 0.8288\n",
            "Epoch 37/100\n",
            "60000/60000 [==============================] - 2s 28us/sample - loss: 0.4638 - acc: 0.8413 - val_loss: 0.4918 - val_acc: 0.8286\n",
            "Epoch 38/100\n",
            "60000/60000 [==============================] - 2s 30us/sample - loss: 0.4628 - acc: 0.8414 - val_loss: 0.4914 - val_acc: 0.8284\n",
            "Epoch 39/100\n",
            "60000/60000 [==============================] - 2s 28us/sample - loss: 0.4605 - acc: 0.8427 - val_loss: 0.4895 - val_acc: 0.8296\n",
            "Epoch 40/100\n",
            "60000/60000 [==============================] - 2s 30us/sample - loss: 0.4600 - acc: 0.8423 - val_loss: 0.4890 - val_acc: 0.8297\n",
            "Epoch 41/100\n",
            "60000/60000 [==============================] - 2s 29us/sample - loss: 0.4598 - acc: 0.8432 - val_loss: 0.4909 - val_acc: 0.8292\n",
            "Epoch 42/100\n",
            "60000/60000 [==============================] - 2s 29us/sample - loss: 0.4576 - acc: 0.8432 - val_loss: 0.4874 - val_acc: 0.8298\n",
            "Epoch 43/100\n",
            "60000/60000 [==============================] - 2s 28us/sample - loss: 0.4572 - acc: 0.8439 - val_loss: 0.4861 - val_acc: 0.8302\n",
            "Epoch 44/100\n",
            "60000/60000 [==============================] - 2s 29us/sample - loss: 0.4544 - acc: 0.8446 - val_loss: 0.4859 - val_acc: 0.8302\n",
            "Epoch 45/100\n",
            "60000/60000 [==============================] - 2s 28us/sample - loss: 0.4549 - acc: 0.8433 - val_loss: 0.4851 - val_acc: 0.8300\n",
            "Epoch 46/100\n",
            "60000/60000 [==============================] - 2s 31us/sample - loss: 0.4535 - acc: 0.8459 - val_loss: 0.4849 - val_acc: 0.8305\n",
            "Epoch 47/100\n",
            "60000/60000 [==============================] - 2s 29us/sample - loss: 0.4525 - acc: 0.8453 - val_loss: 0.4839 - val_acc: 0.8312\n",
            "Epoch 48/100\n",
            "60000/60000 [==============================] - 2s 32us/sample - loss: 0.4514 - acc: 0.8456 - val_loss: 0.4842 - val_acc: 0.8314\n",
            "Epoch 49/100\n",
            "60000/60000 [==============================] - 2s 29us/sample - loss: 0.4515 - acc: 0.8454 - val_loss: 0.4829 - val_acc: 0.8321\n",
            "Epoch 50/100\n",
            "60000/60000 [==============================] - 2s 31us/sample - loss: 0.4501 - acc: 0.8462 - val_loss: 0.4820 - val_acc: 0.8321\n",
            "Epoch 51/100\n",
            "60000/60000 [==============================] - 2s 29us/sample - loss: 0.4485 - acc: 0.8464 - val_loss: 0.4814 - val_acc: 0.8318\n",
            "Epoch 52/100\n",
            "60000/60000 [==============================] - 2s 30us/sample - loss: 0.4488 - acc: 0.8465 - val_loss: 0.4807 - val_acc: 0.8326\n",
            "Epoch 53/100\n",
            "60000/60000 [==============================] - 2s 30us/sample - loss: 0.4477 - acc: 0.8472 - val_loss: 0.4791 - val_acc: 0.8325\n",
            "Epoch 54/100\n",
            "60000/60000 [==============================] - 2s 28us/sample - loss: 0.4459 - acc: 0.8480 - val_loss: 0.4798 - val_acc: 0.8331\n",
            "Epoch 55/100\n",
            "60000/60000 [==============================] - 2s 29us/sample - loss: 0.4461 - acc: 0.8481 - val_loss: 0.4801 - val_acc: 0.8324\n",
            "Epoch 56/100\n",
            "60000/60000 [==============================] - 2s 29us/sample - loss: 0.4449 - acc: 0.8477 - val_loss: 0.4782 - val_acc: 0.8327\n",
            "Epoch 57/100\n",
            "60000/60000 [==============================] - 2s 31us/sample - loss: 0.4437 - acc: 0.8483 - val_loss: 0.4778 - val_acc: 0.8323\n",
            "Epoch 58/100\n",
            "60000/60000 [==============================] - 2s 30us/sample - loss: 0.4435 - acc: 0.8480 - val_loss: 0.4767 - val_acc: 0.8331\n",
            "Epoch 59/100\n",
            "60000/60000 [==============================] - 2s 33us/sample - loss: 0.4415 - acc: 0.8490 - val_loss: 0.4768 - val_acc: 0.8327\n",
            "Epoch 60/100\n",
            "60000/60000 [==============================] - 2s 32us/sample - loss: 0.4435 - acc: 0.8482 - val_loss: 0.4780 - val_acc: 0.8324\n",
            "Epoch 61/100\n",
            "60000/60000 [==============================] - 2s 33us/sample - loss: 0.4407 - acc: 0.8496 - val_loss: 0.4748 - val_acc: 0.8328\n",
            "Epoch 62/100\n",
            "60000/60000 [==============================] - 2s 31us/sample - loss: 0.4412 - acc: 0.8478 - val_loss: 0.4750 - val_acc: 0.8327\n",
            "Epoch 63/100\n",
            "60000/60000 [==============================] - 2s 32us/sample - loss: 0.4411 - acc: 0.8497 - val_loss: 0.4753 - val_acc: 0.8331\n",
            "Epoch 64/100\n",
            "60000/60000 [==============================] - 2s 28us/sample - loss: 0.4397 - acc: 0.8486 - val_loss: 0.4744 - val_acc: 0.8337\n",
            "Epoch 65/100\n",
            "60000/60000 [==============================] - 2s 29us/sample - loss: 0.4394 - acc: 0.8502 - val_loss: 0.4742 - val_acc: 0.8337\n",
            "Epoch 66/100\n",
            "60000/60000 [==============================] - 2s 28us/sample - loss: 0.4393 - acc: 0.8495 - val_loss: 0.4737 - val_acc: 0.8334\n",
            "Epoch 67/100\n",
            "60000/60000 [==============================] - 2s 29us/sample - loss: 0.4384 - acc: 0.8503 - val_loss: 0.4729 - val_acc: 0.8339\n",
            "Epoch 68/100\n",
            "60000/60000 [==============================] - 2s 28us/sample - loss: 0.4355 - acc: 0.8510 - val_loss: 0.4726 - val_acc: 0.8338\n",
            "Epoch 69/100\n",
            "60000/60000 [==============================] - 2s 29us/sample - loss: 0.4368 - acc: 0.8503 - val_loss: 0.4717 - val_acc: 0.8353\n",
            "Epoch 70/100\n",
            "60000/60000 [==============================] - 2s 28us/sample - loss: 0.4363 - acc: 0.8503 - val_loss: 0.4717 - val_acc: 0.8338\n",
            "Epoch 71/100\n",
            "60000/60000 [==============================] - 2s 29us/sample - loss: 0.4342 - acc: 0.8511 - val_loss: 0.4716 - val_acc: 0.8340\n",
            "Epoch 72/100\n",
            "60000/60000 [==============================] - 2s 28us/sample - loss: 0.4360 - acc: 0.8501 - val_loss: 0.4700 - val_acc: 0.8348\n",
            "Epoch 73/100\n",
            "60000/60000 [==============================] - 2s 31us/sample - loss: 0.4346 - acc: 0.8509 - val_loss: 0.4702 - val_acc: 0.8340\n",
            "Epoch 74/100\n",
            "60000/60000 [==============================] - 2s 29us/sample - loss: 0.4344 - acc: 0.8502 - val_loss: 0.4718 - val_acc: 0.8353\n",
            "Epoch 75/100\n",
            "60000/60000 [==============================] - 2s 29us/sample - loss: 0.4336 - acc: 0.8511 - val_loss: 0.4699 - val_acc: 0.8348\n",
            "Epoch 76/100\n",
            "60000/60000 [==============================] - 2s 29us/sample - loss: 0.4342 - acc: 0.8515 - val_loss: 0.4691 - val_acc: 0.8355\n",
            "Epoch 77/100\n",
            "60000/60000 [==============================] - 2s 29us/sample - loss: 0.4322 - acc: 0.8510 - val_loss: 0.4697 - val_acc: 0.8351\n",
            "Epoch 78/100\n",
            "60000/60000 [==============================] - 2s 28us/sample - loss: 0.4332 - acc: 0.8517 - val_loss: 0.4684 - val_acc: 0.8358\n",
            "Epoch 79/100\n",
            "60000/60000 [==============================] - 2s 29us/sample - loss: 0.4318 - acc: 0.8523 - val_loss: 0.4688 - val_acc: 0.8359\n",
            "Epoch 80/100\n",
            "60000/60000 [==============================] - 2s 28us/sample - loss: 0.4319 - acc: 0.8528 - val_loss: 0.4688 - val_acc: 0.8357\n",
            "Epoch 81/100\n",
            "60000/60000 [==============================] - 2s 29us/sample - loss: 0.4296 - acc: 0.8519 - val_loss: 0.4673 - val_acc: 0.8358\n",
            "Epoch 82/100\n",
            "60000/60000 [==============================] - 2s 29us/sample - loss: 0.4315 - acc: 0.8518 - val_loss: 0.4688 - val_acc: 0.8362\n",
            "Epoch 83/100\n",
            "60000/60000 [==============================] - 2s 29us/sample - loss: 0.4285 - acc: 0.8526 - val_loss: 0.4687 - val_acc: 0.8353\n",
            "Epoch 84/100\n",
            "60000/60000 [==============================] - 2s 28us/sample - loss: 0.4305 - acc: 0.8519 - val_loss: 0.4680 - val_acc: 0.8360\n",
            "Epoch 85/100\n",
            "60000/60000 [==============================] - 2s 29us/sample - loss: 0.4289 - acc: 0.8533 - val_loss: 0.4669 - val_acc: 0.8360\n",
            "Epoch 86/100\n",
            "60000/60000 [==============================] - 2s 28us/sample - loss: 0.4290 - acc: 0.8534 - val_loss: 0.4663 - val_acc: 0.8363\n",
            "Epoch 87/100\n",
            "60000/60000 [==============================] - 2s 29us/sample - loss: 0.4283 - acc: 0.8530 - val_loss: 0.4664 - val_acc: 0.8376\n",
            "Epoch 88/100\n",
            "60000/60000 [==============================] - 2s 28us/sample - loss: 0.4280 - acc: 0.8536 - val_loss: 0.4654 - val_acc: 0.8367\n",
            "Epoch 89/100\n",
            "60000/60000 [==============================] - 2s 28us/sample - loss: 0.4283 - acc: 0.8521 - val_loss: 0.4670 - val_acc: 0.8370\n",
            "Epoch 90/100\n",
            "60000/60000 [==============================] - 2s 28us/sample - loss: 0.4258 - acc: 0.8538 - val_loss: 0.4659 - val_acc: 0.8375\n",
            "Epoch 91/100\n",
            "60000/60000 [==============================] - 2s 29us/sample - loss: 0.4277 - acc: 0.8519 - val_loss: 0.4652 - val_acc: 0.8374\n",
            "Epoch 92/100\n",
            "60000/60000 [==============================] - 2s 28us/sample - loss: 0.4267 - acc: 0.8538 - val_loss: 0.4653 - val_acc: 0.8369\n",
            "Epoch 93/100\n",
            "60000/60000 [==============================] - 2s 29us/sample - loss: 0.4262 - acc: 0.8545 - val_loss: 0.4648 - val_acc: 0.8371\n",
            "Epoch 94/100\n",
            "60000/60000 [==============================] - 2s 28us/sample - loss: 0.4254 - acc: 0.8539 - val_loss: 0.4643 - val_acc: 0.8377\n",
            "Epoch 95/100\n",
            "60000/60000 [==============================] - 2s 29us/sample - loss: 0.4250 - acc: 0.8535 - val_loss: 0.4638 - val_acc: 0.8381\n",
            "Epoch 96/100\n",
            "60000/60000 [==============================] - 2s 28us/sample - loss: 0.4238 - acc: 0.8540 - val_loss: 0.4639 - val_acc: 0.8390\n",
            "Epoch 97/100\n",
            "60000/60000 [==============================] - 2s 30us/sample - loss: 0.4241 - acc: 0.8549 - val_loss: 0.4626 - val_acc: 0.8393\n",
            "Epoch 98/100\n",
            "60000/60000 [==============================] - 2s 28us/sample - loss: 0.4254 - acc: 0.8549 - val_loss: 0.4622 - val_acc: 0.8392\n",
            "Epoch 99/100\n",
            "60000/60000 [==============================] - 2s 29us/sample - loss: 0.4243 - acc: 0.8535 - val_loss: 0.4649 - val_acc: 0.8389\n",
            "Epoch 100/100\n",
            "60000/60000 [==============================] - 2s 28us/sample - loss: 0.4236 - acc: 0.8550 - val_loss: 0.4632 - val_acc: 0.8373\n"
          ],
          "name": "stdout"
        },
        {
          "output_type": "execute_result",
          "data": {
            "text/plain": [
              "<tensorflow.python.keras.callbacks.History at 0x7f56e7e40610>"
            ]
          },
          "metadata": {
            "tags": []
          },
          "execution_count": 17
        }
      ]
    },
    {
      "metadata": {
        "id": "j9CSqKvpOIVk",
        "colab_type": "text"
      },
      "cell_type": "markdown",
      "source": [
        "### Build the Neural Network model with 3 Dense layers with 100,100,10 neurons respectively in each layer. Use cross entropy loss function and singmoid as activation in the hidden layers and softmax as activation function in the output layer. Use sgd optimizer with learning rate 0.03."
      ]
    },
    {
      "metadata": {
        "id": "GGAad54JOIVm",
        "colab_type": "code",
        "colab": {}
      },
      "cell_type": "code",
      "source": [
        "#Initialize Sequential model\n",
        "model = tf.keras.models.Sequential()\n",
        "\n",
        "#Reshape data from 2D to 1D -> 28x28 to 784\n",
        "model.add(tf.keras.layers.Reshape((784,),input_shape=(28,28,)))\n",
        "\n",
        "#Normalize the data\n",
        "model.add(tf.keras.layers.BatchNormalization())\n",
        "\n",
        "#Add 1st hidden layer\n",
        "model.add(tf.keras.layers.Dense(100, activation='sigmoid'))\n",
        "\n",
        "#Add 2nd hidden layer\n",
        "model.add(tf.keras.layers.Dense(100, activation='sigmoid'))\n",
        "\n",
        "#Add Dense Layer which provides 10 Outputs after applying softmax\n",
        "model.add(tf.keras.layers.Dense(10, activation='softmax'))\n",
        "\n",
        "#Create optimizer with non-default learning rate\n",
        "sgd_optimizer = tf.keras.optimizers.SGD(lr=0.03)\n",
        "\n",
        "#Compile the model\n",
        "model.compile(optimizer=sgd_optimizer, loss='categorical_crossentropy', metrics=['accuracy'])"
      ],
      "execution_count": 0,
      "outputs": []
    },
    {
      "metadata": {
        "id": "Nr2YsZV0OIV0",
        "colab_type": "text"
      },
      "cell_type": "markdown",
      "source": [
        "## Review model"
      ]
    },
    {
      "metadata": {
        "id": "-fPBZTXzMeIO",
        "colab_type": "text"
      },
      "cell_type": "markdown",
      "source": [
        "The above model has one input layer with 784 features, there are 2 hidden dense layers  with 100, 100 and nodes each with Sigmoid as activation function.\n",
        "\n",
        "The out put layer is having 10 nodes with Softmax activation to allow 10 class classificatoion \n",
        "\n",
        "So far the accuracy is not going above 88%."
      ]
    },
    {
      "metadata": {
        "id": "gfFGmbZLOIV5",
        "colab_type": "text"
      },
      "cell_type": "markdown",
      "source": [
        "### Run the model"
      ]
    },
    {
      "metadata": {
        "id": "bIkbMEN5OIV7",
        "colab_type": "code",
        "outputId": "eeb4e7b4-5385-45ea-a8be-d9d486eeb8ca",
        "colab": {
          "base_uri": "https://localhost:8080/",
          "height": 3410
        }
      },
      "cell_type": "code",
      "source": [
        "model.fit(trainX, trainY, \n",
        "          validation_data=(testX, testY), \n",
        "          epochs=100,\n",
        "          batch_size=100)"
      ],
      "execution_count": 19,
      "outputs": [
        {
          "output_type": "stream",
          "text": [
            "Train on 60000 samples, validate on 10000 samples\n",
            "Epoch 1/100\n",
            "60000/60000 [==============================] - 3s 52us/sample - loss: 1.5525 - acc: 0.5965 - val_loss: 1.0594 - val_acc: 0.6956\n",
            "Epoch 2/100\n",
            "60000/60000 [==============================] - 3s 49us/sample - loss: 0.8759 - acc: 0.7355 - val_loss: 0.7537 - val_acc: 0.7500\n",
            "Epoch 3/100\n",
            "60000/60000 [==============================] - 3s 49us/sample - loss: 0.6868 - acc: 0.7659 - val_loss: 0.6431 - val_acc: 0.7736\n",
            "Epoch 4/100\n",
            "60000/60000 [==============================] - 3s 47us/sample - loss: 0.6025 - acc: 0.7882 - val_loss: 0.5829 - val_acc: 0.7912\n",
            "Epoch 5/100\n",
            "60000/60000 [==============================] - 3s 48us/sample - loss: 0.5519 - acc: 0.8056 - val_loss: 0.5429 - val_acc: 0.8058\n",
            "Epoch 6/100\n",
            "60000/60000 [==============================] - 3s 48us/sample - loss: 0.5146 - acc: 0.8191 - val_loss: 0.5159 - val_acc: 0.8147\n",
            "Epoch 7/100\n",
            "60000/60000 [==============================] - 3s 47us/sample - loss: 0.4890 - acc: 0.8269 - val_loss: 0.4943 - val_acc: 0.8230\n",
            "Epoch 8/100\n",
            "60000/60000 [==============================] - 3s 47us/sample - loss: 0.4691 - acc: 0.8337 - val_loss: 0.4796 - val_acc: 0.8283\n",
            "Epoch 9/100\n",
            "60000/60000 [==============================] - 3s 48us/sample - loss: 0.4522 - acc: 0.8402 - val_loss: 0.4684 - val_acc: 0.8320\n",
            "Epoch 10/100\n",
            "60000/60000 [==============================] - 3s 47us/sample - loss: 0.4409 - acc: 0.8444 - val_loss: 0.4582 - val_acc: 0.8337\n",
            "Epoch 11/100\n",
            "60000/60000 [==============================] - 3s 49us/sample - loss: 0.4293 - acc: 0.8479 - val_loss: 0.4490 - val_acc: 0.8372\n",
            "Epoch 12/100\n",
            "60000/60000 [==============================] - 3s 48us/sample - loss: 0.4208 - acc: 0.8511 - val_loss: 0.4417 - val_acc: 0.8391\n",
            "Epoch 13/100\n",
            "60000/60000 [==============================] - 3s 48us/sample - loss: 0.4133 - acc: 0.8529 - val_loss: 0.4356 - val_acc: 0.8419\n",
            "Epoch 14/100\n",
            "60000/60000 [==============================] - 3s 49us/sample - loss: 0.4051 - acc: 0.8558 - val_loss: 0.4287 - val_acc: 0.8429\n",
            "Epoch 15/100\n",
            "60000/60000 [==============================] - 3s 48us/sample - loss: 0.3994 - acc: 0.8575 - val_loss: 0.4241 - val_acc: 0.8446\n",
            "Epoch 16/100\n",
            "60000/60000 [==============================] - 3s 51us/sample - loss: 0.3934 - acc: 0.8600 - val_loss: 0.4198 - val_acc: 0.8467\n",
            "Epoch 17/100\n",
            "60000/60000 [==============================] - 3s 50us/sample - loss: 0.3872 - acc: 0.8629 - val_loss: 0.4146 - val_acc: 0.8485\n",
            "Epoch 18/100\n",
            "60000/60000 [==============================] - 3s 51us/sample - loss: 0.3831 - acc: 0.8638 - val_loss: 0.4112 - val_acc: 0.8499\n",
            "Epoch 19/100\n",
            "60000/60000 [==============================] - 3s 47us/sample - loss: 0.3775 - acc: 0.8663 - val_loss: 0.4076 - val_acc: 0.8500\n",
            "Epoch 20/100\n",
            "60000/60000 [==============================] - 3s 47us/sample - loss: 0.3733 - acc: 0.8675 - val_loss: 0.4039 - val_acc: 0.8541\n",
            "Epoch 21/100\n",
            "60000/60000 [==============================] - 3s 47us/sample - loss: 0.3690 - acc: 0.8684 - val_loss: 0.4001 - val_acc: 0.8542\n",
            "Epoch 22/100\n",
            "60000/60000 [==============================] - 3s 47us/sample - loss: 0.3657 - acc: 0.8705 - val_loss: 0.3979 - val_acc: 0.8546\n",
            "Epoch 23/100\n",
            "60000/60000 [==============================] - 3s 47us/sample - loss: 0.3621 - acc: 0.8709 - val_loss: 0.3952 - val_acc: 0.8563\n",
            "Epoch 24/100\n",
            "60000/60000 [==============================] - 3s 47us/sample - loss: 0.3558 - acc: 0.8730 - val_loss: 0.3922 - val_acc: 0.8582\n",
            "Epoch 25/100\n",
            "60000/60000 [==============================] - 3s 47us/sample - loss: 0.3536 - acc: 0.8739 - val_loss: 0.3890 - val_acc: 0.8583\n",
            "Epoch 26/100\n",
            "60000/60000 [==============================] - 3s 46us/sample - loss: 0.3501 - acc: 0.8740 - val_loss: 0.3866 - val_acc: 0.8611\n",
            "Epoch 27/100\n",
            "60000/60000 [==============================] - 3s 47us/sample - loss: 0.3478 - acc: 0.8762 - val_loss: 0.3854 - val_acc: 0.8618\n",
            "Epoch 28/100\n",
            "60000/60000 [==============================] - 3s 46us/sample - loss: 0.3449 - acc: 0.8766 - val_loss: 0.3826 - val_acc: 0.8603\n",
            "Epoch 29/100\n",
            "60000/60000 [==============================] - 3s 47us/sample - loss: 0.3427 - acc: 0.8774 - val_loss: 0.3799 - val_acc: 0.8637\n",
            "Epoch 30/100\n",
            "60000/60000 [==============================] - 3s 45us/sample - loss: 0.3381 - acc: 0.8787 - val_loss: 0.3784 - val_acc: 0.8626\n",
            "Epoch 31/100\n",
            "60000/60000 [==============================] - 3s 46us/sample - loss: 0.3337 - acc: 0.8809 - val_loss: 0.3753 - val_acc: 0.8649\n",
            "Epoch 32/100\n",
            "60000/60000 [==============================] - 3s 45us/sample - loss: 0.3326 - acc: 0.8808 - val_loss: 0.3751 - val_acc: 0.8647\n",
            "Epoch 33/100\n",
            "60000/60000 [==============================] - 3s 47us/sample - loss: 0.3296 - acc: 0.8836 - val_loss: 0.3727 - val_acc: 0.8645\n",
            "Epoch 34/100\n",
            "60000/60000 [==============================] - 3s 46us/sample - loss: 0.3279 - acc: 0.8835 - val_loss: 0.3724 - val_acc: 0.8660\n",
            "Epoch 35/100\n",
            "60000/60000 [==============================] - 3s 48us/sample - loss: 0.3251 - acc: 0.8834 - val_loss: 0.3679 - val_acc: 0.8672\n",
            "Epoch 36/100\n",
            "60000/60000 [==============================] - 3s 46us/sample - loss: 0.3207 - acc: 0.8853 - val_loss: 0.3676 - val_acc: 0.8679\n",
            "Epoch 37/100\n",
            "60000/60000 [==============================] - 3s 47us/sample - loss: 0.3197 - acc: 0.8857 - val_loss: 0.3672 - val_acc: 0.8670\n",
            "Epoch 38/100\n",
            "60000/60000 [==============================] - 3s 46us/sample - loss: 0.3159 - acc: 0.8877 - val_loss: 0.3645 - val_acc: 0.8680\n",
            "Epoch 39/100\n",
            "60000/60000 [==============================] - 3s 46us/sample - loss: 0.3135 - acc: 0.8886 - val_loss: 0.3641 - val_acc: 0.8680\n",
            "Epoch 40/100\n",
            "60000/60000 [==============================] - 3s 47us/sample - loss: 0.3127 - acc: 0.8888 - val_loss: 0.3626 - val_acc: 0.8683\n",
            "Epoch 41/100\n",
            "60000/60000 [==============================] - 3s 45us/sample - loss: 0.3092 - acc: 0.8899 - val_loss: 0.3604 - val_acc: 0.8693\n",
            "Epoch 42/100\n",
            "60000/60000 [==============================] - 3s 45us/sample - loss: 0.3071 - acc: 0.8912 - val_loss: 0.3596 - val_acc: 0.8708\n",
            "Epoch 43/100\n",
            "60000/60000 [==============================] - 3s 46us/sample - loss: 0.3043 - acc: 0.8904 - val_loss: 0.3592 - val_acc: 0.8710\n",
            "Epoch 44/100\n",
            "60000/60000 [==============================] - 3s 49us/sample - loss: 0.3027 - acc: 0.8919 - val_loss: 0.3586 - val_acc: 0.8703\n",
            "Epoch 45/100\n",
            "60000/60000 [==============================] - 3s 51us/sample - loss: 0.3003 - acc: 0.8927 - val_loss: 0.3556 - val_acc: 0.8716\n",
            "Epoch 46/100\n",
            "60000/60000 [==============================] - 3s 50us/sample - loss: 0.2977 - acc: 0.8934 - val_loss: 0.3547 - val_acc: 0.8737\n",
            "Epoch 47/100\n",
            "60000/60000 [==============================] - 3s 47us/sample - loss: 0.2953 - acc: 0.8946 - val_loss: 0.3563 - val_acc: 0.8710\n",
            "Epoch 48/100\n",
            "60000/60000 [==============================] - 3s 44us/sample - loss: 0.2927 - acc: 0.8965 - val_loss: 0.3519 - val_acc: 0.8731\n",
            "Epoch 49/100\n",
            "60000/60000 [==============================] - 3s 45us/sample - loss: 0.2903 - acc: 0.8962 - val_loss: 0.3522 - val_acc: 0.8733\n",
            "Epoch 50/100\n",
            "60000/60000 [==============================] - 3s 45us/sample - loss: 0.2895 - acc: 0.8970 - val_loss: 0.3508 - val_acc: 0.8734\n",
            "Epoch 51/100\n",
            "60000/60000 [==============================] - 3s 45us/sample - loss: 0.2871 - acc: 0.8980 - val_loss: 0.3504 - val_acc: 0.8730\n",
            "Epoch 52/100\n",
            "60000/60000 [==============================] - 3s 45us/sample - loss: 0.2844 - acc: 0.8979 - val_loss: 0.3493 - val_acc: 0.8741\n",
            "Epoch 53/100\n",
            "60000/60000 [==============================] - 3s 45us/sample - loss: 0.2841 - acc: 0.8988 - val_loss: 0.3476 - val_acc: 0.8739\n",
            "Epoch 54/100\n",
            "60000/60000 [==============================] - 3s 44us/sample - loss: 0.2809 - acc: 0.8999 - val_loss: 0.3468 - val_acc: 0.8751\n",
            "Epoch 55/100\n",
            "60000/60000 [==============================] - 3s 45us/sample - loss: 0.2788 - acc: 0.9003 - val_loss: 0.3492 - val_acc: 0.8732\n",
            "Epoch 56/100\n",
            "60000/60000 [==============================] - 3s 45us/sample - loss: 0.2766 - acc: 0.9014 - val_loss: 0.3484 - val_acc: 0.8740\n",
            "Epoch 57/100\n",
            "60000/60000 [==============================] - 3s 46us/sample - loss: 0.2752 - acc: 0.9023 - val_loss: 0.3465 - val_acc: 0.8762\n",
            "Epoch 58/100\n",
            "60000/60000 [==============================] - 3s 45us/sample - loss: 0.2728 - acc: 0.9031 - val_loss: 0.3436 - val_acc: 0.8749\n",
            "Epoch 59/100\n",
            "60000/60000 [==============================] - 3s 46us/sample - loss: 0.2704 - acc: 0.9033 - val_loss: 0.3442 - val_acc: 0.8754\n",
            "Epoch 60/100\n",
            "60000/60000 [==============================] - 3s 45us/sample - loss: 0.2703 - acc: 0.9034 - val_loss: 0.3441 - val_acc: 0.8759\n",
            "Epoch 61/100\n",
            "60000/60000 [==============================] - 3s 46us/sample - loss: 0.2678 - acc: 0.9043 - val_loss: 0.3427 - val_acc: 0.8757\n",
            "Epoch 62/100\n",
            "60000/60000 [==============================] - 3s 46us/sample - loss: 0.2654 - acc: 0.9045 - val_loss: 0.3434 - val_acc: 0.8753\n",
            "Epoch 63/100\n",
            "60000/60000 [==============================] - 3s 46us/sample - loss: 0.2641 - acc: 0.9043 - val_loss: 0.3415 - val_acc: 0.8756\n",
            "Epoch 64/100\n",
            "60000/60000 [==============================] - 3s 45us/sample - loss: 0.2607 - acc: 0.9072 - val_loss: 0.3414 - val_acc: 0.8770\n",
            "Epoch 65/100\n",
            "60000/60000 [==============================] - 3s 46us/sample - loss: 0.2595 - acc: 0.9075 - val_loss: 0.3415 - val_acc: 0.8782\n",
            "Epoch 66/100\n",
            "60000/60000 [==============================] - 3s 46us/sample - loss: 0.2571 - acc: 0.9074 - val_loss: 0.3400 - val_acc: 0.8773\n",
            "Epoch 67/100\n",
            "60000/60000 [==============================] - 3s 47us/sample - loss: 0.2551 - acc: 0.9089 - val_loss: 0.3410 - val_acc: 0.8776\n",
            "Epoch 68/100\n",
            "60000/60000 [==============================] - 3s 46us/sample - loss: 0.2536 - acc: 0.9092 - val_loss: 0.3384 - val_acc: 0.8770\n",
            "Epoch 69/100\n",
            "60000/60000 [==============================] - 3s 46us/sample - loss: 0.2514 - acc: 0.9100 - val_loss: 0.3390 - val_acc: 0.8782\n",
            "Epoch 70/100\n",
            "60000/60000 [==============================] - 3s 45us/sample - loss: 0.2499 - acc: 0.9099 - val_loss: 0.3380 - val_acc: 0.8784\n",
            "Epoch 71/100\n",
            "60000/60000 [==============================] - 3s 44us/sample - loss: 0.2491 - acc: 0.9105 - val_loss: 0.3405 - val_acc: 0.8757\n",
            "Epoch 72/100\n",
            "60000/60000 [==============================] - 3s 45us/sample - loss: 0.2460 - acc: 0.9122 - val_loss: 0.3366 - val_acc: 0.8780\n",
            "Epoch 73/100\n",
            "60000/60000 [==============================] - 3s 48us/sample - loss: 0.2453 - acc: 0.9119 - val_loss: 0.3359 - val_acc: 0.8789\n",
            "Epoch 74/100\n",
            "60000/60000 [==============================] - 3s 51us/sample - loss: 0.2422 - acc: 0.9137 - val_loss: 0.3395 - val_acc: 0.8793\n",
            "Epoch 75/100\n",
            "60000/60000 [==============================] - 3s 50us/sample - loss: 0.2410 - acc: 0.9147 - val_loss: 0.3364 - val_acc: 0.8778\n",
            "Epoch 76/100\n",
            "60000/60000 [==============================] - 3s 49us/sample - loss: 0.2400 - acc: 0.9148 - val_loss: 0.3345 - val_acc: 0.8800\n",
            "Epoch 77/100\n",
            "60000/60000 [==============================] - 3s 45us/sample - loss: 0.2381 - acc: 0.9158 - val_loss: 0.3351 - val_acc: 0.8782\n",
            "Epoch 78/100\n",
            "60000/60000 [==============================] - 3s 45us/sample - loss: 0.2352 - acc: 0.9158 - val_loss: 0.3352 - val_acc: 0.8802\n",
            "Epoch 79/100\n",
            "60000/60000 [==============================] - 3s 45us/sample - loss: 0.2336 - acc: 0.9173 - val_loss: 0.3331 - val_acc: 0.8805\n",
            "Epoch 80/100\n",
            "60000/60000 [==============================] - 3s 44us/sample - loss: 0.2329 - acc: 0.9168 - val_loss: 0.3333 - val_acc: 0.8798\n",
            "Epoch 81/100\n",
            "60000/60000 [==============================] - 3s 45us/sample - loss: 0.2314 - acc: 0.9181 - val_loss: 0.3339 - val_acc: 0.8797\n",
            "Epoch 82/100\n",
            "60000/60000 [==============================] - 3s 44us/sample - loss: 0.2292 - acc: 0.9185 - val_loss: 0.3337 - val_acc: 0.8794\n",
            "Epoch 83/100\n",
            "60000/60000 [==============================] - 3s 46us/sample - loss: 0.2279 - acc: 0.9187 - val_loss: 0.3333 - val_acc: 0.8796\n",
            "Epoch 84/100\n",
            "60000/60000 [==============================] - 3s 46us/sample - loss: 0.2261 - acc: 0.9192 - val_loss: 0.3355 - val_acc: 0.8786\n",
            "Epoch 85/100\n",
            "60000/60000 [==============================] - 3s 45us/sample - loss: 0.2246 - acc: 0.9199 - val_loss: 0.3353 - val_acc: 0.8794\n",
            "Epoch 86/100\n",
            "60000/60000 [==============================] - 3s 46us/sample - loss: 0.2219 - acc: 0.9212 - val_loss: 0.3347 - val_acc: 0.8798\n",
            "Epoch 87/100\n",
            "60000/60000 [==============================] - 3s 46us/sample - loss: 0.2220 - acc: 0.9214 - val_loss: 0.3315 - val_acc: 0.8822\n",
            "Epoch 88/100\n",
            "60000/60000 [==============================] - 3s 45us/sample - loss: 0.2198 - acc: 0.9220 - val_loss: 0.3358 - val_acc: 0.8806\n",
            "Epoch 89/100\n",
            "60000/60000 [==============================] - 3s 47us/sample - loss: 0.2180 - acc: 0.9227 - val_loss: 0.3327 - val_acc: 0.8802\n",
            "Epoch 90/100\n",
            "60000/60000 [==============================] - 3s 45us/sample - loss: 0.2161 - acc: 0.9241 - val_loss: 0.3339 - val_acc: 0.8808\n",
            "Epoch 91/100\n",
            "60000/60000 [==============================] - 3s 46us/sample - loss: 0.2143 - acc: 0.9233 - val_loss: 0.3329 - val_acc: 0.8822\n",
            "Epoch 92/100\n",
            "60000/60000 [==============================] - 3s 44us/sample - loss: 0.2115 - acc: 0.9250 - val_loss: 0.3331 - val_acc: 0.8828\n",
            "Epoch 93/100\n",
            "60000/60000 [==============================] - 3s 45us/sample - loss: 0.2118 - acc: 0.9243 - val_loss: 0.3354 - val_acc: 0.8800\n",
            "Epoch 94/100\n",
            "60000/60000 [==============================] - 3s 47us/sample - loss: 0.2092 - acc: 0.9257 - val_loss: 0.3371 - val_acc: 0.8810\n",
            "Epoch 95/100\n",
            "60000/60000 [==============================] - 3s 45us/sample - loss: 0.2081 - acc: 0.9269 - val_loss: 0.3339 - val_acc: 0.8818\n",
            "Epoch 96/100\n",
            "60000/60000 [==============================] - 3s 43us/sample - loss: 0.2062 - acc: 0.9277 - val_loss: 0.3365 - val_acc: 0.8797\n",
            "Epoch 97/100\n",
            "60000/60000 [==============================] - 3s 44us/sample - loss: 0.2063 - acc: 0.9276 - val_loss: 0.3334 - val_acc: 0.8825\n",
            "Epoch 98/100\n",
            "60000/60000 [==============================] - 3s 53us/sample - loss: 0.2040 - acc: 0.9275 - val_loss: 0.3348 - val_acc: 0.8800\n",
            "Epoch 99/100\n",
            "60000/60000 [==============================] - 3s 52us/sample - loss: 0.2014 - acc: 0.9286 - val_loss: 0.3340 - val_acc: 0.8829\n",
            "Epoch 100/100\n",
            "60000/60000 [==============================] - 3s 54us/sample - loss: 0.1999 - acc: 0.9294 - val_loss: 0.3361 - val_acc: 0.8812\n"
          ],
          "name": "stdout"
        },
        {
          "output_type": "execute_result",
          "data": {
            "text/plain": [
              "<tensorflow.python.keras.callbacks.History at 0x7f56ef4e7990>"
            ]
          },
          "metadata": {
            "tags": []
          },
          "execution_count": 19
        }
      ]
    },
    {
      "metadata": {
        "id": "d6h6ypBIOCQa",
        "colab_type": "text"
      },
      "cell_type": "markdown",
      "source": [
        "**Extra**"
      ]
    },
    {
      "metadata": {
        "id": "IX6Z389PJ9Zx",
        "colab_type": "code",
        "colab": {}
      },
      "cell_type": "code",
      "source": [
        "#Initialize Sequential model\n",
        "model = tf.keras.models.Sequential()\n",
        "\n",
        "#Reshape data from 2D to 1D -> 28x28 to 784\n",
        "model.add(tf.keras.layers.Reshape((784,),input_shape=(28,28,)))\n",
        "\n",
        "#Normalize the data\n",
        "model.add(tf.keras.layers.BatchNormalization())\n",
        "\n",
        "#Add 1st hidden layer\n",
        "model.add(tf.keras.layers.Dense(60, activation='relu'))\n",
        "\n",
        "#Add 2nd hidden layer\n",
        "model.add(tf.keras.layers.Dense(100, activation='relu'))\n",
        "\n",
        "#Add 3rd hidden layer\n",
        "#model.add(tf.keras.layers.Dense(60, activation='sigmoid'))\n",
        "\n",
        "\n",
        "#Add 4th hidden layer\n",
        "model.add(tf.keras.layers.Dense(30, activation='relu'))\n",
        "\n",
        "\n",
        "#Add Dense Layer which provides 10 Outputs after applying softmax\n",
        "model.add(tf.keras.layers.Dense(10, activation='softmax'))\n",
        "\n",
        "#Create optimizer with non-default learning rate\n",
        "sgd_optimizer = tf.keras.optimizers.SGD(lr=0.01)\n",
        "\n",
        "#Compile the model\n",
        "model.compile(optimizer=sgd_optimizer, loss='categorical_crossentropy', metrics=['accuracy'])"
      ],
      "execution_count": 0,
      "outputs": []
    },
    {
      "metadata": {
        "id": "GDG5vmLxM7ls",
        "colab_type": "code",
        "colab": {
          "base_uri": "https://localhost:8080/",
          "height": 1730
        },
        "outputId": "409c8a0b-eb26-4c01-b2e7-3ef724986b5a"
      },
      "cell_type": "code",
      "source": [
        "model.fit(trainX, trainY, \n",
        "          validation_data=(testX, testY), \n",
        "          epochs=50,\n",
        "          batch_size=200)"
      ],
      "execution_count": 21,
      "outputs": [
        {
          "output_type": "stream",
          "text": [
            "Train on 60000 samples, validate on 10000 samples\n",
            "Epoch 1/50\n",
            "60000/60000 [==============================] - 2s 32us/sample - loss: 1.0976 - acc: 0.6431 - val_loss: 0.6577 - val_acc: 0.7675\n",
            "Epoch 2/50\n",
            "60000/60000 [==============================] - 2s 28us/sample - loss: 0.5802 - acc: 0.7929 - val_loss: 0.5517 - val_acc: 0.8031\n",
            "Epoch 3/50\n",
            "60000/60000 [==============================] - 2s 28us/sample - loss: 0.5059 - acc: 0.8177 - val_loss: 0.5080 - val_acc: 0.8167\n",
            "Epoch 4/50\n",
            "60000/60000 [==============================] - 2s 28us/sample - loss: 0.4681 - acc: 0.8306 - val_loss: 0.4832 - val_acc: 0.8295\n",
            "Epoch 5/50\n",
            "60000/60000 [==============================] - 2s 28us/sample - loss: 0.4430 - acc: 0.8396 - val_loss: 0.4656 - val_acc: 0.8344\n",
            "Epoch 6/50\n",
            "60000/60000 [==============================] - 2s 28us/sample - loss: 0.4263 - acc: 0.8464 - val_loss: 0.4512 - val_acc: 0.8409\n",
            "Epoch 7/50\n",
            "60000/60000 [==============================] - 2s 27us/sample - loss: 0.4105 - acc: 0.8521 - val_loss: 0.4400 - val_acc: 0.8434\n",
            "Epoch 8/50\n",
            "60000/60000 [==============================] - 2s 27us/sample - loss: 0.3987 - acc: 0.8561 - val_loss: 0.4349 - val_acc: 0.8466\n",
            "Epoch 9/50\n",
            "60000/60000 [==============================] - 2s 28us/sample - loss: 0.3886 - acc: 0.8601 - val_loss: 0.4260 - val_acc: 0.8491\n",
            "Epoch 10/50\n",
            "60000/60000 [==============================] - 2s 28us/sample - loss: 0.3812 - acc: 0.8626 - val_loss: 0.4196 - val_acc: 0.8513\n",
            "Epoch 11/50\n",
            "60000/60000 [==============================] - 2s 28us/sample - loss: 0.3725 - acc: 0.8668 - val_loss: 0.4122 - val_acc: 0.8546\n",
            "Epoch 12/50\n",
            "60000/60000 [==============================] - 2s 28us/sample - loss: 0.3658 - acc: 0.8693 - val_loss: 0.4095 - val_acc: 0.8537\n",
            "Epoch 13/50\n",
            "60000/60000 [==============================] - 2s 29us/sample - loss: 0.3595 - acc: 0.8705 - val_loss: 0.4013 - val_acc: 0.8576\n",
            "Epoch 14/50\n",
            "60000/60000 [==============================] - 2s 28us/sample - loss: 0.3534 - acc: 0.8720 - val_loss: 0.4005 - val_acc: 0.8567\n",
            "Epoch 15/50\n",
            "60000/60000 [==============================] - 2s 28us/sample - loss: 0.3475 - acc: 0.8751 - val_loss: 0.3970 - val_acc: 0.8587\n",
            "Epoch 16/50\n",
            "60000/60000 [==============================] - 2s 28us/sample - loss: 0.3427 - acc: 0.8761 - val_loss: 0.3922 - val_acc: 0.8613\n",
            "Epoch 17/50\n",
            "60000/60000 [==============================] - 2s 29us/sample - loss: 0.3366 - acc: 0.8789 - val_loss: 0.3894 - val_acc: 0.8622\n",
            "Epoch 18/50\n",
            "60000/60000 [==============================] - 2s 29us/sample - loss: 0.3331 - acc: 0.8795 - val_loss: 0.3863 - val_acc: 0.8632\n",
            "Epoch 19/50\n",
            "60000/60000 [==============================] - 2s 27us/sample - loss: 0.3279 - acc: 0.8818 - val_loss: 0.3855 - val_acc: 0.8645\n",
            "Epoch 20/50\n",
            "60000/60000 [==============================] - 2s 28us/sample - loss: 0.3248 - acc: 0.8829 - val_loss: 0.3826 - val_acc: 0.8633\n",
            "Epoch 21/50\n",
            "60000/60000 [==============================] - 2s 27us/sample - loss: 0.3221 - acc: 0.8829 - val_loss: 0.3833 - val_acc: 0.8631\n",
            "Epoch 22/50\n",
            "60000/60000 [==============================] - 2s 28us/sample - loss: 0.3172 - acc: 0.8845 - val_loss: 0.3772 - val_acc: 0.8647\n",
            "Epoch 23/50\n",
            "60000/60000 [==============================] - 2s 27us/sample - loss: 0.3143 - acc: 0.8855 - val_loss: 0.3746 - val_acc: 0.8662\n",
            "Epoch 24/50\n",
            "60000/60000 [==============================] - 2s 27us/sample - loss: 0.3112 - acc: 0.8873 - val_loss: 0.3748 - val_acc: 0.8680\n",
            "Epoch 25/50\n",
            "60000/60000 [==============================] - 2s 28us/sample - loss: 0.3082 - acc: 0.8874 - val_loss: 0.3733 - val_acc: 0.8666\n",
            "Epoch 26/50\n",
            "60000/60000 [==============================] - 2s 27us/sample - loss: 0.3048 - acc: 0.8893 - val_loss: 0.3704 - val_acc: 0.8713\n",
            "Epoch 27/50\n",
            "60000/60000 [==============================] - 2s 28us/sample - loss: 0.3019 - acc: 0.8896 - val_loss: 0.3695 - val_acc: 0.8677\n",
            "Epoch 28/50\n",
            "60000/60000 [==============================] - 2s 27us/sample - loss: 0.2988 - acc: 0.8906 - val_loss: 0.3654 - val_acc: 0.8693\n",
            "Epoch 29/50\n",
            "60000/60000 [==============================] - 2s 29us/sample - loss: 0.2954 - acc: 0.8934 - val_loss: 0.3702 - val_acc: 0.8692\n",
            "Epoch 30/50\n",
            "60000/60000 [==============================] - 2s 28us/sample - loss: 0.2933 - acc: 0.8925 - val_loss: 0.3638 - val_acc: 0.8723\n",
            "Epoch 31/50\n",
            "60000/60000 [==============================] - 2s 27us/sample - loss: 0.2913 - acc: 0.8936 - val_loss: 0.3622 - val_acc: 0.8711\n",
            "Epoch 32/50\n",
            "60000/60000 [==============================] - 2s 27us/sample - loss: 0.2892 - acc: 0.8947 - val_loss: 0.3605 - val_acc: 0.8715\n",
            "Epoch 33/50\n",
            "60000/60000 [==============================] - 2s 27us/sample - loss: 0.2857 - acc: 0.8964 - val_loss: 0.3622 - val_acc: 0.8737\n",
            "Epoch 34/50\n",
            "60000/60000 [==============================] - 2s 28us/sample - loss: 0.2849 - acc: 0.8970 - val_loss: 0.3609 - val_acc: 0.8716\n",
            "Epoch 35/50\n",
            "60000/60000 [==============================] - 2s 28us/sample - loss: 0.2818 - acc: 0.8972 - val_loss: 0.3574 - val_acc: 0.8764\n",
            "Epoch 36/50\n",
            "60000/60000 [==============================] - 2s 28us/sample - loss: 0.2790 - acc: 0.8989 - val_loss: 0.3594 - val_acc: 0.8740\n",
            "Epoch 37/50\n",
            "60000/60000 [==============================] - 2s 28us/sample - loss: 0.2770 - acc: 0.8992 - val_loss: 0.3581 - val_acc: 0.8731\n",
            "Epoch 38/50\n",
            "60000/60000 [==============================] - 2s 27us/sample - loss: 0.2751 - acc: 0.8995 - val_loss: 0.3563 - val_acc: 0.8750\n",
            "Epoch 39/50\n",
            "60000/60000 [==============================] - 2s 26us/sample - loss: 0.2737 - acc: 0.9008 - val_loss: 0.3565 - val_acc: 0.8738\n",
            "Epoch 40/50\n",
            "60000/60000 [==============================] - 2s 27us/sample - loss: 0.2707 - acc: 0.9014 - val_loss: 0.3543 - val_acc: 0.8754\n",
            "Epoch 41/50\n",
            "60000/60000 [==============================] - 2s 27us/sample - loss: 0.2693 - acc: 0.9017 - val_loss: 0.3557 - val_acc: 0.8747\n",
            "Epoch 42/50\n",
            "60000/60000 [==============================] - 2s 29us/sample - loss: 0.2685 - acc: 0.9008 - val_loss: 0.3543 - val_acc: 0.8760\n",
            "Epoch 43/50\n",
            "60000/60000 [==============================] - 2s 32us/sample - loss: 0.2657 - acc: 0.9038 - val_loss: 0.3553 - val_acc: 0.8739\n",
            "Epoch 44/50\n",
            "60000/60000 [==============================] - 2s 32us/sample - loss: 0.2627 - acc: 0.9039 - val_loss: 0.3522 - val_acc: 0.8770\n",
            "Epoch 45/50\n",
            "60000/60000 [==============================] - 2s 32us/sample - loss: 0.2614 - acc: 0.9043 - val_loss: 0.3512 - val_acc: 0.8757\n",
            "Epoch 46/50\n",
            "60000/60000 [==============================] - 2s 31us/sample - loss: 0.2584 - acc: 0.9058 - val_loss: 0.3535 - val_acc: 0.8777\n",
            "Epoch 47/50\n",
            "60000/60000 [==============================] - 2s 31us/sample - loss: 0.2572 - acc: 0.9066 - val_loss: 0.3507 - val_acc: 0.8766\n",
            "Epoch 48/50\n",
            "60000/60000 [==============================] - 2s 27us/sample - loss: 0.2562 - acc: 0.9067 - val_loss: 0.3548 - val_acc: 0.8775\n",
            "Epoch 49/50\n",
            "60000/60000 [==============================] - 2s 28us/sample - loss: 0.2550 - acc: 0.9062 - val_loss: 0.3514 - val_acc: 0.8763\n",
            "Epoch 50/50\n",
            "60000/60000 [==============================] - 2s 28us/sample - loss: 0.2514 - acc: 0.9086 - val_loss: 0.3495 - val_acc: 0.8769\n"
          ],
          "name": "stdout"
        },
        {
          "output_type": "execute_result",
          "data": {
            "text/plain": [
              "<tensorflow.python.keras.callbacks.History at 0x7f56ef551610>"
            ]
          },
          "metadata": {
            "tags": []
          },
          "execution_count": 21
        }
      ]
    }
  ]
}